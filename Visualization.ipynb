{
 "cells": [
  {
   "cell_type": "code",
   "execution_count": 1,
   "id": "fundamental-forth",
   "metadata": {},
   "outputs": [],
   "source": [
    "import pandas as pd\n",
    "import numpy as np\n",
    "import matplotlib.pyplot as plt\n",
    "import seaborn as sns"
   ]
  },
  {
   "cell_type": "code",
   "execution_count": 2,
   "id": "neither-ranking",
   "metadata": {},
   "outputs": [],
   "source": [
    "data = pd.read_csv('./data/final.csv')"
   ]
  },
  {
   "cell_type": "code",
   "execution_count": 3,
   "id": "exterior-lebanon",
   "metadata": {},
   "outputs": [
    {
     "data": {
      "text/html": [
       "<div>\n",
       "<style scoped>\n",
       "    .dataframe tbody tr th:only-of-type {\n",
       "        vertical-align: middle;\n",
       "    }\n",
       "\n",
       "    .dataframe tbody tr th {\n",
       "        vertical-align: top;\n",
       "    }\n",
       "\n",
       "    .dataframe thead th {\n",
       "        text-align: right;\n",
       "    }\n",
       "</style>\n",
       "<table border=\"1\" class=\"dataframe\">\n",
       "  <thead>\n",
       "    <tr style=\"text-align: right;\">\n",
       "      <th></th>\n",
       "      <th>Unnamed: 0</th>\n",
       "      <th>session_id</th>\n",
       "      <th>mellon_id</th>\n",
       "      <th>player_id</th>\n",
       "      <th>event_result</th>\n",
       "      <th>task</th>\n",
       "      <th>Primary code</th>\n",
       "      <th>revise_score</th>\n",
       "      <th>high_performance</th>\n",
       "      <th>female_members</th>\n",
       "      <th>female_maj</th>\n",
       "      <th>gender</th>\n",
       "      <th>ethnicity</th>\n",
       "      <th>application_status</th>\n",
       "      <th>first_generation</th>\n",
       "      <th>urm</th>\n",
       "      <th>first_language</th>\n",
       "    </tr>\n",
       "  </thead>\n",
       "  <tbody>\n",
       "    <tr>\n",
       "      <th>0</th>\n",
       "      <td>0</td>\n",
       "      <td>7298_PartyVenue</td>\n",
       "      <td>173442</td>\n",
       "      <td>{'userID1': '202618', 'nickname1': 'bean boi',...</td>\n",
       "      <td>what's up lads</td>\n",
       "      <td>PartyVenue</td>\n",
       "      <td>SMC</td>\n",
       "      <td>0.0</td>\n",
       "      <td>0</td>\n",
       "      <td>4</td>\n",
       "      <td>1</td>\n",
       "      <td>F</td>\n",
       "      <td>Unknown / declined to state</td>\n",
       "      <td>Sophomore</td>\n",
       "      <td>0.0</td>\n",
       "      <td>0.0</td>\n",
       "      <td>English only</td>\n",
       "    </tr>\n",
       "    <tr>\n",
       "      <th>1</th>\n",
       "      <td>1</td>\n",
       "      <td>7298_PartyVenue</td>\n",
       "      <td>173442</td>\n",
       "      <td>{'userID1': '202618', 'nickname1': 'bean boi',...</td>\n",
       "      <td>bean boi i like ur name</td>\n",
       "      <td>PartyVenue</td>\n",
       "      <td>SMC</td>\n",
       "      <td>0.0</td>\n",
       "      <td>0</td>\n",
       "      <td>4</td>\n",
       "      <td>1</td>\n",
       "      <td>F</td>\n",
       "      <td>Unknown / declined to state</td>\n",
       "      <td>Sophomore</td>\n",
       "      <td>0.0</td>\n",
       "      <td>0.0</td>\n",
       "      <td>English only</td>\n",
       "    </tr>\n",
       "    <tr>\n",
       "      <th>2</th>\n",
       "      <td>2</td>\n",
       "      <td>7298_PartyVenue</td>\n",
       "      <td>173442</td>\n",
       "      <td>{'userID1': '202618', 'nickname1': 'bean boi',...</td>\n",
       "      <td>also mood alice lol</td>\n",
       "      <td>PartyVenue</td>\n",
       "      <td>SMC</td>\n",
       "      <td>0.0</td>\n",
       "      <td>0</td>\n",
       "      <td>4</td>\n",
       "      <td>1</td>\n",
       "      <td>F</td>\n",
       "      <td>Unknown / declined to state</td>\n",
       "      <td>Sophomore</td>\n",
       "      <td>0.0</td>\n",
       "      <td>0.0</td>\n",
       "      <td>English only</td>\n",
       "    </tr>\n",
       "    <tr>\n",
       "      <th>3</th>\n",
       "      <td>3</td>\n",
       "      <td>7298_PartyVenue</td>\n",
       "      <td>173442</td>\n",
       "      <td>{'userID1': '202618', 'nickname1': 'bean boi',...</td>\n",
       "      <td>question when u guys were signing up on the su...</td>\n",
       "      <td>PartyVenue</td>\n",
       "      <td>SMC</td>\n",
       "      <td>0.0</td>\n",
       "      <td>0</td>\n",
       "      <td>4</td>\n",
       "      <td>1</td>\n",
       "      <td>F</td>\n",
       "      <td>Unknown / declined to state</td>\n",
       "      <td>Sophomore</td>\n",
       "      <td>0.0</td>\n",
       "      <td>0.0</td>\n",
       "      <td>English only</td>\n",
       "    </tr>\n",
       "    <tr>\n",
       "      <th>4</th>\n",
       "      <td>4</td>\n",
       "      <td>7298_PartyVenue</td>\n",
       "      <td>173442</td>\n",
       "      <td>{'userID1': '202618', 'nickname1': 'bean boi',...</td>\n",
       "      <td>RIGHT? ok im not crazy</td>\n",
       "      <td>PartyVenue</td>\n",
       "      <td>SMC</td>\n",
       "      <td>0.0</td>\n",
       "      <td>0</td>\n",
       "      <td>4</td>\n",
       "      <td>1</td>\n",
       "      <td>F</td>\n",
       "      <td>Unknown / declined to state</td>\n",
       "      <td>Sophomore</td>\n",
       "      <td>0.0</td>\n",
       "      <td>0.0</td>\n",
       "      <td>English only</td>\n",
       "    </tr>\n",
       "    <tr>\n",
       "      <th>...</th>\n",
       "      <td>...</td>\n",
       "      <td>...</td>\n",
       "      <td>...</td>\n",
       "      <td>...</td>\n",
       "      <td>...</td>\n",
       "      <td>...</td>\n",
       "      <td>...</td>\n",
       "      <td>...</td>\n",
       "      <td>...</td>\n",
       "      <td>...</td>\n",
       "      <td>...</td>\n",
       "      <td>...</td>\n",
       "      <td>...</td>\n",
       "      <td>...</td>\n",
       "      <td>...</td>\n",
       "      <td>...</td>\n",
       "      <td>...</td>\n",
       "    </tr>\n",
       "    <tr>\n",
       "      <th>7363</th>\n",
       "      <td>7363</td>\n",
       "      <td>7371_candidate</td>\n",
       "      <td>187876</td>\n",
       "      <td>{'userID1': '187876', 'nickname1': 'Sabrina', ...</td>\n",
       "      <td>I put BCA what did you guys put?</td>\n",
       "      <td>candidate</td>\n",
       "      <td>SSI</td>\n",
       "      <td>0.0</td>\n",
       "      <td>0</td>\n",
       "      <td>3</td>\n",
       "      <td>1</td>\n",
       "      <td>F</td>\n",
       "      <td>Hispanic</td>\n",
       "      <td>Junior</td>\n",
       "      <td>1.0</td>\n",
       "      <td>1.0</td>\n",
       "      <td>English/non-English</td>\n",
       "    </tr>\n",
       "    <tr>\n",
       "      <th>7364</th>\n",
       "      <td>7364</td>\n",
       "      <td>7371_candidate</td>\n",
       "      <td>187876</td>\n",
       "      <td>{'userID1': '187876', 'nickname1': 'Sabrina', ...</td>\n",
       "      <td>yes</td>\n",
       "      <td>candidate</td>\n",
       "      <td>SESU</td>\n",
       "      <td>0.0</td>\n",
       "      <td>0</td>\n",
       "      <td>3</td>\n",
       "      <td>1</td>\n",
       "      <td>F</td>\n",
       "      <td>Hispanic</td>\n",
       "      <td>Junior</td>\n",
       "      <td>1.0</td>\n",
       "      <td>1.0</td>\n",
       "      <td>English/non-English</td>\n",
       "    </tr>\n",
       "    <tr>\n",
       "      <th>7365</th>\n",
       "      <td>7365</td>\n",
       "      <td>7371_candidate</td>\n",
       "      <td>187876</td>\n",
       "      <td>{'userID1': '187876', 'nickname1': 'Sabrina', ...</td>\n",
       "      <td>yeah</td>\n",
       "      <td>candidate</td>\n",
       "      <td>SN</td>\n",
       "      <td>0.0</td>\n",
       "      <td>0</td>\n",
       "      <td>3</td>\n",
       "      <td>1</td>\n",
       "      <td>F</td>\n",
       "      <td>Hispanic</td>\n",
       "      <td>Junior</td>\n",
       "      <td>1.0</td>\n",
       "      <td>1.0</td>\n",
       "      <td>English/non-English</td>\n",
       "    </tr>\n",
       "    <tr>\n",
       "      <th>7366</th>\n",
       "      <td>7366</td>\n",
       "      <td>7371_candidate</td>\n",
       "      <td>187876</td>\n",
       "      <td>{'userID1': '187876', 'nickname1': 'Sabrina', ...</td>\n",
       "      <td>A has fewer character qualities than the other...</td>\n",
       "      <td>candidate</td>\n",
       "      <td>SSI</td>\n",
       "      <td>0.0</td>\n",
       "      <td>0</td>\n",
       "      <td>3</td>\n",
       "      <td>1</td>\n",
       "      <td>F</td>\n",
       "      <td>Hispanic</td>\n",
       "      <td>Junior</td>\n",
       "      <td>1.0</td>\n",
       "      <td>1.0</td>\n",
       "      <td>English/non-English</td>\n",
       "    </tr>\n",
       "    <tr>\n",
       "      <th>7367</th>\n",
       "      <td>7367</td>\n",
       "      <td>7371_candidate</td>\n",
       "      <td>187876</td>\n",
       "      <td>{'userID1': '187876', 'nickname1': 'Sabrina', ...</td>\n",
       "      <td>we can then all agree on BCA?</td>\n",
       "      <td>candidate</td>\n",
       "      <td>CM</td>\n",
       "      <td>0.0</td>\n",
       "      <td>0</td>\n",
       "      <td>3</td>\n",
       "      <td>1</td>\n",
       "      <td>F</td>\n",
       "      <td>Hispanic</td>\n",
       "      <td>Junior</td>\n",
       "      <td>1.0</td>\n",
       "      <td>1.0</td>\n",
       "      <td>English/non-English</td>\n",
       "    </tr>\n",
       "  </tbody>\n",
       "</table>\n",
       "<p>7368 rows × 17 columns</p>\n",
       "</div>"
      ],
      "text/plain": [
       "      Unnamed: 0       session_id mellon_id  \\\n",
       "0              0  7298_PartyVenue    173442   \n",
       "1              1  7298_PartyVenue    173442   \n",
       "2              2  7298_PartyVenue    173442   \n",
       "3              3  7298_PartyVenue    173442   \n",
       "4              4  7298_PartyVenue    173442   \n",
       "...          ...              ...       ...   \n",
       "7363        7363   7371_candidate    187876   \n",
       "7364        7364   7371_candidate    187876   \n",
       "7365        7365   7371_candidate    187876   \n",
       "7366        7366   7371_candidate    187876   \n",
       "7367        7367   7371_candidate    187876   \n",
       "\n",
       "                                              player_id  \\\n",
       "0     {'userID1': '202618', 'nickname1': 'bean boi',...   \n",
       "1     {'userID1': '202618', 'nickname1': 'bean boi',...   \n",
       "2     {'userID1': '202618', 'nickname1': 'bean boi',...   \n",
       "3     {'userID1': '202618', 'nickname1': 'bean boi',...   \n",
       "4     {'userID1': '202618', 'nickname1': 'bean boi',...   \n",
       "...                                                 ...   \n",
       "7363  {'userID1': '187876', 'nickname1': 'Sabrina', ...   \n",
       "7364  {'userID1': '187876', 'nickname1': 'Sabrina', ...   \n",
       "7365  {'userID1': '187876', 'nickname1': 'Sabrina', ...   \n",
       "7366  {'userID1': '187876', 'nickname1': 'Sabrina', ...   \n",
       "7367  {'userID1': '187876', 'nickname1': 'Sabrina', ...   \n",
       "\n",
       "                                           event_result        task  \\\n",
       "0                                        what's up lads  PartyVenue   \n",
       "1                               bean boi i like ur name  PartyVenue   \n",
       "2                                   also mood alice lol  PartyVenue   \n",
       "3     question when u guys were signing up on the su...  PartyVenue   \n",
       "4                                RIGHT? ok im not crazy  PartyVenue   \n",
       "...                                                 ...         ...   \n",
       "7363                   I put BCA what did you guys put?   candidate   \n",
       "7364                                                yes   candidate   \n",
       "7365                                               yeah   candidate   \n",
       "7366  A has fewer character qualities than the other...   candidate   \n",
       "7367                      we can then all agree on BCA?   candidate   \n",
       "\n",
       "     Primary code   revise_score  high_performance  female_members  \\\n",
       "0              SMC           0.0                 0               4   \n",
       "1              SMC           0.0                 0               4   \n",
       "2              SMC           0.0                 0               4   \n",
       "3              SMC           0.0                 0               4   \n",
       "4              SMC           0.0                 0               4   \n",
       "...            ...           ...               ...             ...   \n",
       "7363           SSI           0.0                 0               3   \n",
       "7364          SESU           0.0                 0               3   \n",
       "7365            SN           0.0                 0               3   \n",
       "7366           SSI           0.0                 0               3   \n",
       "7367            CM           0.0                 0               3   \n",
       "\n",
       "      female_maj gender                    ethnicity application_status  \\\n",
       "0              1      F  Unknown / declined to state          Sophomore   \n",
       "1              1      F  Unknown / declined to state          Sophomore   \n",
       "2              1      F  Unknown / declined to state          Sophomore   \n",
       "3              1      F  Unknown / declined to state          Sophomore   \n",
       "4              1      F  Unknown / declined to state          Sophomore   \n",
       "...          ...    ...                          ...                ...   \n",
       "7363           1      F                     Hispanic             Junior   \n",
       "7364           1      F                     Hispanic             Junior   \n",
       "7365           1      F                     Hispanic             Junior   \n",
       "7366           1      F                     Hispanic             Junior   \n",
       "7367           1      F                     Hispanic             Junior   \n",
       "\n",
       "      first_generation  urm       first_language  \n",
       "0                  0.0  0.0         English only  \n",
       "1                  0.0  0.0         English only  \n",
       "2                  0.0  0.0         English only  \n",
       "3                  0.0  0.0         English only  \n",
       "4                  0.0  0.0         English only  \n",
       "...                ...  ...                  ...  \n",
       "7363               1.0  1.0  English/non-English  \n",
       "7364               1.0  1.0  English/non-English  \n",
       "7365               1.0  1.0  English/non-English  \n",
       "7366               1.0  1.0  English/non-English  \n",
       "7367               1.0  1.0  English/non-English  \n",
       "\n",
       "[7368 rows x 17 columns]"
      ]
     },
     "execution_count": 3,
     "metadata": {},
     "output_type": "execute_result"
    }
   ],
   "source": [
    "data"
   ]
  },
  {
   "cell_type": "code",
   "execution_count": 4,
   "id": "seven-bankruptcy",
   "metadata": {},
   "outputs": [
    {
     "data": {
      "text/plain": [
       "514"
      ]
     },
     "execution_count": 4,
     "metadata": {},
     "output_type": "execute_result"
    }
   ],
   "source": [
    "len(data.mellon_id.unique())"
   ]
  },
  {
   "cell_type": "code",
   "execution_count": 5,
   "id": "utility-dietary",
   "metadata": {},
   "outputs": [
    {
     "data": {
      "text/plain": [
       "1    81\n",
       "0    48\n",
       "Name: female_maj, dtype: int64"
      ]
     },
     "execution_count": 5,
     "metadata": {},
     "output_type": "execute_result"
    }
   ],
   "source": [
    "data.groupby(['session_id']).female_maj.max().value_counts()"
   ]
  },
  {
   "cell_type": "code",
   "execution_count": 6,
   "id": "vertical-insider",
   "metadata": {},
   "outputs": [
    {
     "name": "stderr",
     "output_type": "stream",
     "text": [
      "/Library/Frameworks/Python.framework/Versions/3.9/lib/python3.9/site-packages/seaborn/_decorators.py:36: FutureWarning: Pass the following variables as keyword args: x, y. From version 0.12, the only valid positional argument will be `data`, and passing other arguments without an explicit keyword will result in an error or misinterpretation.\n",
      "  warnings.warn(\n"
     ]
    },
    {
     "data": {
      "image/png": "[encoded data removed]",
      "text/plain": [
       "<Figure size 1440x720 with 1 Axes>"
      ]
     },
     "metadata": {
      "needs_background": "light"
     },
     "output_type": "display_data"
    }
   ],
   "source": [
    "fig = plt.figure(figsize=(20,10))\n",
    "ax = fig.add_axes([0,0,1,1])\n",
    "k = data.groupby(['session_id']).female_maj.max().value_counts().index\n",
    "val = data.groupby(['session_id']).female_maj.max().value_counts()\n",
    "sns.barplot(k, val)\n",
    "plt.show()"
   ]
  },
  {
   "cell_type": "markdown",
   "id": "convertible-technique",
   "metadata": {},
   "source": [
    "# Race"
   ]
  },
  {
   "cell_type": "code",
   "execution_count": 8,
   "id": "removed-junior",
   "metadata": {},
   "outputs": [
    {
     "data": {
      "text/plain": [
       "Asian / Asian American               209\n",
       "Hispanic                             162\n",
       "White, non-Hispanic                   62\n",
       "International student                 33\n",
       "Unknown                               12\n",
       "Black, non-Hispanic                    9\n",
       "Two or more ethnicities, with URM      9\n",
       "Unknown / declined to state            5\n",
       "Pacific Islander                       1\n",
       "Name: ethnicity, dtype: int64"
      ]
     },
     "execution_count": 8,
     "metadata": {},
     "output_type": "execute_result"
    }
   ],
   "source": [
    "data.groupby(['mellon_id']).ethnicity.max().value_counts()"
   ]
  },
  {
   "cell_type": "code",
   "execution_count": 9,
   "id": "processed-religion",
   "metadata": {},
   "outputs": [
    {
     "name": "stderr",
     "output_type": "stream",
     "text": [
      "/Library/Frameworks/Python.framework/Versions/3.9/lib/python3.9/site-packages/seaborn/_decorators.py:36: FutureWarning: Pass the following variables as keyword args: x, y. From version 0.12, the only valid positional argument will be `data`, and passing other arguments without an explicit keyword will result in an error or misinterpretation.\n",
      "  warnings.warn(\n"
     ]
    },
    {
     "data": {
      "image/png": "[encoded data removed]",
      "text/plain": [
       "<Figure size 1440x720 with 1 Axes>"
      ]
     },
     "metadata": {
      "needs_background": "light"
     },
     "output_type": "display_data"
    }
   ],
   "source": [
    "fig = plt.figure(figsize=(20,10))\n",
    "ax = fig.add_axes([0,0,1,1])\n",
    "k = data.groupby(['mellon_id']).ethnicity.max().value_counts().index\n",
    "val = data.groupby(['mellon_id']).ethnicity.max().value_counts()\n",
    "sns.barplot(k, val)\n",
    "plt.show()"
   ]
  },
  {
   "cell_type": "markdown",
   "id": "missing-firmware",
   "metadata": {},
   "source": [
    "# Gender"
   ]
  },
  {
   "cell_type": "code",
   "execution_count": 10,
   "id": "awful-evaluation",
   "metadata": {},
   "outputs": [
    {
     "data": {
      "text/plain": [
       "F    347\n",
       "M    155\n",
       "Name: gender, dtype: int64"
      ]
     },
     "execution_count": 10,
     "metadata": {},
     "output_type": "execute_result"
    }
   ],
   "source": [
    "data.groupby(['mellon_id']).gender.max().value_counts()"
   ]
  },
  {
   "cell_type": "code",
   "execution_count": 11,
   "id": "gross-night",
   "metadata": {},
   "outputs": [
    {
     "name": "stderr",
     "output_type": "stream",
     "text": [
      "/Library/Frameworks/Python.framework/Versions/3.9/lib/python3.9/site-packages/seaborn/_decorators.py:36: FutureWarning: Pass the following variables as keyword args: x, y. From version 0.12, the only valid positional argument will be `data`, and passing other arguments without an explicit keyword will result in an error or misinterpretation.\n",
      "  warnings.warn(\n"
     ]
    },
    {
     "data": {
      "image/png": "[encoded data removed]",
      "text/plain": [
       "<Figure size 504x720 with 1 Axes>"
      ]
     },
     "metadata": {
      "needs_background": "light"
     },
     "output_type": "display_data"
    }
   ],
   "source": [
    "fig = plt.figure(figsize=(7,10))\n",
    "ax = fig.add_axes([0,0,1,1])\n",
    "k = data.groupby(['mellon_id']).gender.max().value_counts().index\n",
    "val = data.groupby(['mellon_id']).gender.max().value_counts()\n",
    "sns.barplot(k, val)\n",
    "plt.show()"
   ]
  },
  {
   "cell_type": "markdown",
   "id": "wound-biodiversity",
   "metadata": {},
   "source": [
    "# Year"
   ]
  },
  {
   "cell_type": "code",
   "execution_count": 12,
   "id": "composed-arthur",
   "metadata": {},
   "outputs": [
    {
     "data": {
      "text/plain": [
       "Freshman     342\n",
       "Junior       128\n",
       "Sophomore     24\n",
       "Senior         8\n",
       "Name: application_status, dtype: int64"
      ]
     },
     "execution_count": 12,
     "metadata": {},
     "output_type": "execute_result"
    }
   ],
   "source": [
    "data.groupby(['mellon_id']).application_status.max().value_counts()"
   ]
  },
  {
   "cell_type": "code",
   "execution_count": 13,
   "id": "upset-rates",
   "metadata": {},
   "outputs": [
    {
     "name": "stderr",
     "output_type": "stream",
     "text": [
      "/Library/Frameworks/Python.framework/Versions/3.9/lib/python3.9/site-packages/seaborn/_decorators.py:36: FutureWarning: Pass the following variables as keyword args: x, y. From version 0.12, the only valid positional argument will be `data`, and passing other arguments without an explicit keyword will result in an error or misinterpretation.\n",
      "  warnings.warn(\n"
     ]
    },
    {
     "data": {
      "image/png": "[encoded data removed]",
      "text/plain": [
       "<Figure size 504x360 with 1 Axes>"
      ]
     },
     "metadata": {
      "needs_background": "light"
     },
     "output_type": "display_data"
    }
   ],
   "source": [
    "fig = plt.figure(figsize=(7,5))\n",
    "ax = fig.add_axes([0,0,1,1])\n",
    "k = data.groupby(['mellon_id']).application_status.max().value_counts().index\n",
    "val = data.groupby(['mellon_id']).application_status.max().value_counts()\n",
    "sns.barplot(k, val)\n",
    "plt.show()"
   ]
  },
  {
   "cell_type": "markdown",
   "id": "official-longer",
   "metadata": {},
   "source": [
    "# First generation"
   ]
  },
  {
   "cell_type": "code",
   "execution_count": 14,
   "id": "exempt-respect",
   "metadata": {},
   "outputs": [
    {
     "data": {
      "text/plain": [
       "1.0    277\n",
       "0.0    225\n",
       "Name: first_generation, dtype: int64"
      ]
     },
     "execution_count": 14,
     "metadata": {},
     "output_type": "execute_result"
    }
   ],
   "source": [
    "data.groupby(['mellon_id']).first_generation.max().value_counts()"
   ]
  },
  {
   "cell_type": "code",
   "execution_count": 15,
   "id": "complicated-going",
   "metadata": {},
   "outputs": [
    {
     "name": "stderr",
     "output_type": "stream",
     "text": [
      "/Library/Frameworks/Python.framework/Versions/3.9/lib/python3.9/site-packages/seaborn/_decorators.py:36: FutureWarning: Pass the following variables as keyword args: x, y. From version 0.12, the only valid positional argument will be `data`, and passing other arguments without an explicit keyword will result in an error or misinterpretation.\n",
      "  warnings.warn(\n"
     ]
    },
    {
     "data": {
      "image/png": "[encoded data removed]",
      "text/plain": [
       "<Figure size 504x360 with 1 Axes>"
      ]
     },
     "metadata": {
      "needs_background": "light"
     },
     "output_type": "display_data"
    }
   ],
   "source": [
    "fig = plt.figure(figsize=(7,5))\n",
    "ax = fig.add_axes([0,0,1,1])\n",
    "k = ['first generation', 'non-first generation']\n",
    "val = data.groupby(['mellon_id']).first_generation.max().value_counts()\n",
    "sns.barplot(k, val)\n",
    "plt.show()"
   ]
  },
  {
   "cell_type": "markdown",
   "id": "civic-offset",
   "metadata": {},
   "source": [
    "# Scores"
   ]
  },
  {
   "cell_type": "code",
   "execution_count": 16,
   "id": "unauthorized-asbestos",
   "metadata": {},
   "outputs": [
    {
     "data": {
      "text/plain": [
       "0.000    343\n",
       "1.000     56\n",
       "2.000     52\n",
       "0.500     16\n",
       "1.500     12\n",
       "1.750     12\n",
       "0.250      8\n",
       "0.125      7\n",
       "1.250      4\n",
       "0.750      4\n",
       "Name: revise_score, dtype: int64"
      ]
     },
     "execution_count": 16,
     "metadata": {},
     "output_type": "execute_result"
    }
   ],
   "source": [
    "data.groupby(['mellon_id']).revise_score.mean().value_counts()"
   ]
  },
  {
   "cell_type": "code",
   "execution_count": 17,
   "id": "honey-strategy",
   "metadata": {},
   "outputs": [
    {
     "name": "stderr",
     "output_type": "stream",
     "text": [
      "/Library/Frameworks/Python.framework/Versions/3.9/lib/python3.9/site-packages/seaborn/_decorators.py:36: FutureWarning: Pass the following variables as keyword args: x, y. From version 0.12, the only valid positional argument will be `data`, and passing other arguments without an explicit keyword will result in an error or misinterpretation.\n",
      "  warnings.warn(\n"
     ]
    },
    {
     "data": {
      "image/png": "[encoded data removed]",
      "text/plain": [
       "<Figure size 360x504 with 1 Axes>"
      ]
     },
     "metadata": {
      "needs_background": "light"
     },
     "output_type": "display_data"
    }
   ],
   "source": [
    "fig = plt.figure(figsize=(5,7))\n",
    "ax = fig.add_axes([0,0,1,1])\n",
    "k = list(data.groupby(['mellon_id']).revise_score.max().value_counts().index)\n",
    "val = list(data.groupby(['mellon_id']).revise_score.max().value_counts())\n",
    "sns.barplot(k, val)\n",
    "plt.show()"
   ]
  },
  {
   "cell_type": "code",
   "execution_count": 20,
   "id": "statewide-johnson",
   "metadata": {},
   "outputs": [
    {
     "data": {
      "text/plain": [
       "<AxesSubplot:ylabel='Count'>"
      ]
     },
     "execution_count": 20,
     "metadata": {},
     "output_type": "execute_result"
    },
    {
     "data": {
      "image/png": "[encoded data removed]",
      "text/plain": [
       "<Figure size 432x288 with 1 Axes>"
      ]
     },
     "metadata": {
      "needs_background": "light"
     },
     "output_type": "display_data"
    }
   ],
   "source": [
    "sns.histplot(list(data.groupby(['mellon_id']).revise_score.max()))"
   ]
  },
  {
   "cell_type": "code",
   "execution_count": 10,
   "id": "conservative-patio",
   "metadata": {},
   "outputs": [
    {
     "name": "stderr",
     "output_type": "stream",
     "text": [
      "/Library/Frameworks/Python.framework/Versions/3.9/lib/python3.9/site-packages/seaborn/_decorators.py:36: FutureWarning: Pass the following variables as keyword args: x, y. From version 0.12, the only valid positional argument will be `data`, and passing other arguments without an explicit keyword will result in an error or misinterpretation.\n",
      "  warnings.warn(\n"
     ]
    },
    {
     "data": {
      "image/png": "[encoded data removed]",
      "text/plain": [
       "<Figure size 360x216 with 1 Axes>"
      ]
     },
     "metadata": {
      "needs_background": "light"
     },
     "output_type": "display_data"
    }
   ],
   "source": [
    "fig = plt.figure(figsize=(5,3))\n",
    "ax = fig.add_axes([0,0,1,1])\n",
    "k = ['2', '3', '4', '5', '6', '7', '8']\n",
    "val = [0, 2, 0, 0, 0, 0, 1]\n",
    "sns.barplot(k, val)\n",
    "plt.show()"
   ]
  },
  {
   "cell_type": "code",
   "execution_count": 5,
   "id": "federal-comparison",
   "metadata": {},
   "outputs": [],
   "source": [
    "from scipy.stats import entropy"
   ]
  },
  {
   "cell_type": "code",
   "execution_count": 6,
   "id": "large-broadcast",
   "metadata": {},
   "outputs": [
    {
     "data": {
      "text/plain": [
       "0.6365141682948128"
      ]
     },
     "execution_count": 6,
     "metadata": {},
     "output_type": "execute_result"
    }
   ],
   "source": [
    "entropy([0, 2, 0, 0, 0, 0, 1])"
   ]
  },
  {
   "cell_type": "code",
   "execution_count": 7,
   "id": "stretch-speaker",
   "metadata": {},
   "outputs": [
    {
     "data": {
      "text/plain": [
       "1.844621476365503"
      ]
     },
     "execution_count": 7,
     "metadata": {},
     "output_type": "execute_result"
    }
   ],
   "source": [
    "entropy([1, 2, 2, 3, 1, 3, 1])"
   ]
  },
  {
   "cell_type": "code",
   "execution_count": null,
   "id": "handled-plain",
   "metadata": {},
   "outputs": [],
   "source": []
  }
 ],
 "metadata": {
  "kernelspec": {
   "display_name": "Python 3",
   "language": "python",
   "name": "python3"
  },
  "language_info": {
   "codemirror_mode": {
    "name": "ipython",
    "version": 3
   },
   "file_extension": ".py",
   "mimetype": "text/x-python",
   "name": "python",
   "nbconvert_exporter": "python",
   "pygments_lexer": "ipython3",
   "version": "3.9.1"
  }
 },
 "nbformat": 4,
 "nbformat_minor": 5
}
