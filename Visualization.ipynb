{
 "cells": [
  {
   "cell_type": "code",
   "execution_count": 11,
   "id": "fundamental-forth",
   "metadata": {},
   "outputs": [],
   "source": [
    "import pandas as pd\n",
    "import numpy as np\n",
    "import matplotlib.pyplot as plt"
   ]
  },
  {
   "cell_type": "code",
   "execution_count": 31,
   "id": "neither-ranking",
   "metadata": {},
   "outputs": [],
   "source": [
    "data = pd.read_csv('data_gender_ethnicity_merged.csv')"
   ]
  },
  {
   "cell_type": "code",
   "execution_count": 39,
   "id": "exterior-lebanon",
   "metadata": {},
   "outputs": [
    {
     "data": {
      "text/html": [
       "<div>\n",
       "<style scoped>\n",
       "    .dataframe tbody tr th:only-of-type {\n",
       "        vertical-align: middle;\n",
       "    }\n",
       "\n",
       "    .dataframe tbody tr th {\n",
       "        vertical-align: top;\n",
       "    }\n",
       "\n",
       "    .dataframe thead th {\n",
       "        text-align: right;\n",
       "    }\n",
       "</style>\n",
       "<table border=\"1\" class=\"dataframe\">\n",
       "  <thead>\n",
       "    <tr style=\"text-align: right;\">\n",
       "      <th></th>\n",
       "      <th>Unnamed: 0</th>\n",
       "      <th>Unnamed: 0.1</th>\n",
       "      <th>Unnamed: 0.1.1</th>\n",
       "      <th>task_x</th>\n",
       "      <th>team_id</th>\n",
       "      <th>mellon_id</th>\n",
       "      <th>Primary code</th>\n",
       "      <th>revise_score</th>\n",
       "      <th>high_performance</th>\n",
       "      <th>female_members</th>\n",
       "      <th>female_maj</th>\n",
       "      <th>gender</th>\n",
       "      <th>ethnicity</th>\n",
       "    </tr>\n",
       "  </thead>\n",
       "  <tbody>\n",
       "    <tr>\n",
       "      <th>0</th>\n",
       "      <td>0</td>\n",
       "      <td>0</td>\n",
       "      <td>0</td>\n",
       "      <td>apartment</td>\n",
       "      <td>179706_162850_162936_182908</td>\n",
       "      <td>162850</td>\n",
       "      <td>SMC</td>\n",
       "      <td>1.0</td>\n",
       "      <td>1</td>\n",
       "      <td>2</td>\n",
       "      <td>0</td>\n",
       "      <td>M</td>\n",
       "      <td>Hispanic</td>\n",
       "    </tr>\n",
       "    <tr>\n",
       "      <th>1</th>\n",
       "      <td>1</td>\n",
       "      <td>1</td>\n",
       "      <td>1</td>\n",
       "      <td>apartment</td>\n",
       "      <td>179706_162850_162936_182908</td>\n",
       "      <td>162850</td>\n",
       "      <td>CM</td>\n",
       "      <td>1.0</td>\n",
       "      <td>1</td>\n",
       "      <td>2</td>\n",
       "      <td>0</td>\n",
       "      <td>M</td>\n",
       "      <td>Hispanic</td>\n",
       "    </tr>\n",
       "    <tr>\n",
       "      <th>2</th>\n",
       "      <td>2</td>\n",
       "      <td>2</td>\n",
       "      <td>2</td>\n",
       "      <td>apartment</td>\n",
       "      <td>179706_162850_162936_182908</td>\n",
       "      <td>162850</td>\n",
       "      <td>CE</td>\n",
       "      <td>1.0</td>\n",
       "      <td>1</td>\n",
       "      <td>2</td>\n",
       "      <td>0</td>\n",
       "      <td>M</td>\n",
       "      <td>Hispanic</td>\n",
       "    </tr>\n",
       "    <tr>\n",
       "      <th>3</th>\n",
       "      <td>3</td>\n",
       "      <td>3</td>\n",
       "      <td>3</td>\n",
       "      <td>apartment</td>\n",
       "      <td>179706_162850_162936_182908</td>\n",
       "      <td>162850</td>\n",
       "      <td>SMC</td>\n",
       "      <td>1.0</td>\n",
       "      <td>1</td>\n",
       "      <td>2</td>\n",
       "      <td>0</td>\n",
       "      <td>M</td>\n",
       "      <td>Hispanic</td>\n",
       "    </tr>\n",
       "    <tr>\n",
       "      <th>4</th>\n",
       "      <td>4</td>\n",
       "      <td>4</td>\n",
       "      <td>4</td>\n",
       "      <td>apartment</td>\n",
       "      <td>179706_162850_162936_182908</td>\n",
       "      <td>162850</td>\n",
       "      <td>SSI</td>\n",
       "      <td>1.0</td>\n",
       "      <td>1</td>\n",
       "      <td>2</td>\n",
       "      <td>0</td>\n",
       "      <td>M</td>\n",
       "      <td>Hispanic</td>\n",
       "    </tr>\n",
       "    <tr>\n",
       "      <th>...</th>\n",
       "      <td>...</td>\n",
       "      <td>...</td>\n",
       "      <td>...</td>\n",
       "      <td>...</td>\n",
       "      <td>...</td>\n",
       "      <td>...</td>\n",
       "      <td>...</td>\n",
       "      <td>...</td>\n",
       "      <td>...</td>\n",
       "      <td>...</td>\n",
       "      <td>...</td>\n",
       "      <td>...</td>\n",
       "      <td>...</td>\n",
       "    </tr>\n",
       "    <tr>\n",
       "      <th>7757</th>\n",
       "      <td>7757</td>\n",
       "      <td>7757</td>\n",
       "      <td>7757</td>\n",
       "      <td>Candidate</td>\n",
       "      <td>190690_163721_178949_190053</td>\n",
       "      <td>165170</td>\n",
       "      <td>SMC</td>\n",
       "      <td>0.0</td>\n",
       "      <td>0</td>\n",
       "      <td>3</td>\n",
       "      <td>1</td>\n",
       "      <td>F</td>\n",
       "      <td>Asian / Asian American</td>\n",
       "    </tr>\n",
       "    <tr>\n",
       "      <th>7758</th>\n",
       "      <td>7758</td>\n",
       "      <td>7758</td>\n",
       "      <td>7758</td>\n",
       "      <td>Candidate</td>\n",
       "      <td>190690_163721_178949_190054</td>\n",
       "      <td>165170</td>\n",
       "      <td>CE</td>\n",
       "      <td>0.0</td>\n",
       "      <td>0</td>\n",
       "      <td>3</td>\n",
       "      <td>1</td>\n",
       "      <td>F</td>\n",
       "      <td>Asian / Asian American</td>\n",
       "    </tr>\n",
       "    <tr>\n",
       "      <th>7759</th>\n",
       "      <td>7759</td>\n",
       "      <td>7759</td>\n",
       "      <td>7759</td>\n",
       "      <td>Candidate</td>\n",
       "      <td>190690_163721_178949_190058</td>\n",
       "      <td>165170</td>\n",
       "      <td>SSI</td>\n",
       "      <td>0.0</td>\n",
       "      <td>0</td>\n",
       "      <td>3</td>\n",
       "      <td>1</td>\n",
       "      <td>F</td>\n",
       "      <td>Asian / Asian American</td>\n",
       "    </tr>\n",
       "    <tr>\n",
       "      <th>7760</th>\n",
       "      <td>7760</td>\n",
       "      <td>7760</td>\n",
       "      <td>7760</td>\n",
       "      <td>Candidate</td>\n",
       "      <td>190690_163721_178949_190065</td>\n",
       "      <td>165170</td>\n",
       "      <td>SSI</td>\n",
       "      <td>0.0</td>\n",
       "      <td>0</td>\n",
       "      <td>3</td>\n",
       "      <td>1</td>\n",
       "      <td>F</td>\n",
       "      <td>Asian / Asian American</td>\n",
       "    </tr>\n",
       "    <tr>\n",
       "      <th>7761</th>\n",
       "      <td>7761</td>\n",
       "      <td>7761</td>\n",
       "      <td>7761</td>\n",
       "      <td>Candidate</td>\n",
       "      <td>190690_163721_178949_190070</td>\n",
       "      <td>165170</td>\n",
       "      <td>SN</td>\n",
       "      <td>0.0</td>\n",
       "      <td>0</td>\n",
       "      <td>4</td>\n",
       "      <td>1</td>\n",
       "      <td>F</td>\n",
       "      <td>Asian / Asian American</td>\n",
       "    </tr>\n",
       "  </tbody>\n",
       "</table>\n",
       "<p>7762 rows × 13 columns</p>\n",
       "</div>"
      ],
      "text/plain": [
       "      Unnamed: 0  Unnamed: 0.1  Unnamed: 0.1.1     task_x  \\\n",
       "0              0             0               0  apartment   \n",
       "1              1             1               1  apartment   \n",
       "2              2             2               2  apartment   \n",
       "3              3             3               3  apartment   \n",
       "4              4             4               4  apartment   \n",
       "...          ...           ...             ...        ...   \n",
       "7757        7757          7757            7757  Candidate   \n",
       "7758        7758          7758            7758  Candidate   \n",
       "7759        7759          7759            7759  Candidate   \n",
       "7760        7760          7760            7760  Candidate   \n",
       "7761        7761          7761            7761  Candidate   \n",
       "\n",
       "                          team_id mellon_id Primary code   revise_score  \\\n",
       "0     179706_162850_162936_182908    162850           SMC           1.0   \n",
       "1     179706_162850_162936_182908    162850            CM           1.0   \n",
       "2     179706_162850_162936_182908    162850            CE           1.0   \n",
       "3     179706_162850_162936_182908    162850           SMC           1.0   \n",
       "4     179706_162850_162936_182908    162850           SSI           1.0   \n",
       "...                           ...       ...           ...           ...   \n",
       "7757  190690_163721_178949_190053    165170           SMC           0.0   \n",
       "7758  190690_163721_178949_190054    165170            CE           0.0   \n",
       "7759  190690_163721_178949_190058    165170           SSI           0.0   \n",
       "7760  190690_163721_178949_190065    165170           SSI           0.0   \n",
       "7761  190690_163721_178949_190070    165170            SN           0.0   \n",
       "\n",
       "      high_performance  female_members  female_maj gender  \\\n",
       "0                    1               2           0      M   \n",
       "1                    1               2           0      M   \n",
       "2                    1               2           0      M   \n",
       "3                    1               2           0      M   \n",
       "4                    1               2           0      M   \n",
       "...                ...             ...         ...    ...   \n",
       "7757                 0               3           1      F   \n",
       "7758                 0               3           1      F   \n",
       "7759                 0               3           1      F   \n",
       "7760                 0               3           1      F   \n",
       "7761                 0               4           1      F   \n",
       "\n",
       "                   ethnicity  \n",
       "0                   Hispanic  \n",
       "1                   Hispanic  \n",
       "2                   Hispanic  \n",
       "3                   Hispanic  \n",
       "4                   Hispanic  \n",
       "...                      ...  \n",
       "7757  Asian / Asian American  \n",
       "7758  Asian / Asian American  \n",
       "7759  Asian / Asian American  \n",
       "7760  Asian / Asian American  \n",
       "7761  Asian / Asian American  \n",
       "\n",
       "[7762 rows x 13 columns]"
      ]
     },
     "execution_count": 39,
     "metadata": {},
     "output_type": "execute_result"
    }
   ],
   "source": [
    "data"
   ]
  },
  {
   "cell_type": "code",
   "execution_count": 33,
   "id": "utility-dietary",
   "metadata": {},
   "outputs": [
    {
     "data": {
      "text/plain": [
       "1    624\n",
       "0    197\n",
       "Name: female_maj, dtype: int64"
      ]
     },
     "execution_count": 33,
     "metadata": {},
     "output_type": "execute_result"
    }
   ],
   "source": [
    "data.groupby(['team_id']).female_maj.max().value_counts()"
   ]
  },
  {
   "cell_type": "code",
   "execution_count": 34,
   "id": "vertical-insider",
   "metadata": {},
   "outputs": [
    {
     "data": {
      "image/png": "[encoded data removed]",
      "text/plain": [
       "<Figure size 432x288 with 1 Axes>"
      ]
     },
     "metadata": {
      "needs_background": "light"
     },
     "output_type": "display_data"
    }
   ],
   "source": [
    "import matplotlib.pyplot as plt\n",
    "fig = plt.figure()\n",
    "ax = fig.add_axes([0,0,1,1])\n",
    "langs = ['female majority', 'female minority or equal']\n",
    "students = data.groupby(['team_id']).female_maj.max().value_counts()\n",
    "ax.bar(langs,students)\n",
    "plt.show()"
   ]
  },
  {
   "cell_type": "code",
   "execution_count": 44,
   "id": "conditional-simulation",
   "metadata": {},
   "outputs": [
    {
     "data": {
      "text/plain": [
       "Index(['Asian / Asian American', 'Hispanic', 'White, non-Hispanic',\n",
       "       'International student', 'Unknown', 'Two or more ethnicities, with URM',\n",
       "       'Black, non-Hispanic', 'Unknown / declined to state',\n",
       "       'Pacific Islander'],\n",
       "      dtype='object')"
      ]
     },
     "execution_count": 44,
     "metadata": {},
     "output_type": "execute_result"
    }
   ],
   "source": [
    "data.groupby(['mellon_id']).ethnicity.max().value_counts().index"
   ]
  },
  {
   "cell_type": "code",
   "execution_count": 52,
   "id": "processed-religion",
   "metadata": {},
   "outputs": [
    {
     "data": {
      "image/png": "[encoded data removed]",
      "text/plain": [
       "<Figure size 1440x720 with 1 Axes>"
      ]
     },
     "metadata": {
      "needs_background": "light"
     },
     "output_type": "display_data"
    }
   ],
   "source": [
    "import matplotlib.pyplot as plt\n",
    "fig = plt.figure(figsize=(20,10))\n",
    "ax = fig.add_axes([0,0,1,1])\n",
    "langs = data.groupby(['mellon_id']).ethnicity.max().value_counts().index\n",
    "students = data.groupby(['mellon_id']).ethnicity.max().value_counts()\n",
    "ax.bar(langs,students)\n",
    "plt.show()"
   ]
  },
  {
   "cell_type": "code",
   "execution_count": 55,
   "id": "gross-night",
   "metadata": {},
   "outputs": [
    {
     "data": {
      "image/png": "[encoded data removed]",
      "text/plain": [
       "<Figure size 504x720 with 1 Axes>"
      ]
     },
     "metadata": {
      "needs_background": "light"
     },
     "output_type": "display_data"
    }
   ],
   "source": [
    "import matplotlib.pyplot as plt\n",
    "fig = plt.figure(figsize=(7,10))\n",
    "ax = fig.add_axes([0,0,1,1])\n",
    "langs = data.groupby(['mellon_id']).gender.max().value_counts().index\n",
    "students = data.groupby(['mellon_id']).gender.max().value_counts()\n",
    "ax.bar(langs,students)\n",
    "plt.show()"
   ]
  },
  {
   "cell_type": "code",
   "execution_count": 40,
   "id": "nuclear-witch",
   "metadata": {},
   "outputs": [
    {
     "data": {
      "text/plain": [
       "534"
      ]
     },
     "execution_count": 40,
     "metadata": {},
     "output_type": "execute_result"
    }
   ],
   "source": [
    "len(data.mellon_id.unique())"
   ]
  },
  {
   "cell_type": "code",
   "execution_count": null,
   "id": "composed-arthur",
   "metadata": {},
   "outputs": [],
   "source": []
  }
 ],
 "metadata": {
  "kernelspec": {
   "display_name": "Python 3",
   "language": "python",
   "name": "python3"
  },
  "language_info": {
   "codemirror_mode": {
    "name": "ipython",
    "version": 3
   },
   "file_extension": ".py",
   "mimetype": "text/x-python",
   "name": "python",
   "nbconvert_exporter": "python",
   "pygments_lexer": "ipython3",
   "version": "3.9.1"
  }
 },
 "nbformat": 4,
 "nbformat_minor": 5
}
