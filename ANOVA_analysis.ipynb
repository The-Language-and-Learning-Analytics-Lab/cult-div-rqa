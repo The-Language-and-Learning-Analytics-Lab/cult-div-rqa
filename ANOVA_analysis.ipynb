{
 "cells": [
  {
   "cell_type": "code",
   "execution_count": 1,
   "id": "strategic-estate",
   "metadata": {},
   "outputs": [],
   "source": [
    "import pyrqa\n",
    "import pandas as pd\n",
    "import numpy as np\n",
    "import statsmodels.api as sm\n",
    "import statsmodels.formula.api as smf\n",
    "import scipy"
   ]
  },
  {
   "cell_type": "code",
   "execution_count": 2,
   "id": "vocal-rendering",
   "metadata": {},
   "outputs": [],
   "source": [
    "data = pd.read_csv('./data/rqa_results.csv')"
   ]
  },
  {
   "cell_type": "code",
   "execution_count": 11,
   "id": "scientific-twist",
   "metadata": {},
   "outputs": [],
   "source": [
    "data['diversity_bin'] = (data.diversity >= 3).astype(int)"
   ]
  },
  {
   "cell_type": "code",
   "execution_count": 12,
   "id": "proud-aurora",
   "metadata": {},
   "outputs": [
    {
     "data": {
      "text/plain": [
       "Index(['Unnamed: 0', 'determinism', 'recurrence_rate', 'entropy',\n",
       "       'longest_diagonal_line', 'average_diagonal_line', 'laminarity',\n",
       "       'divergence', 'diversity', 'high_performance', 'female_majority',\n",
       "       'task', 'revise_score', 'full_credit', 'half_credit', 'time',\n",
       "       'diversity_bin'],\n",
       "      dtype='object')"
      ]
     },
     "execution_count": 12,
     "metadata": {},
     "output_type": "execute_result"
    }
   ],
   "source": [
    "data.columns"
   ]
  },
  {
   "cell_type": "code",
   "execution_count": 15,
   "id": "confidential-canal",
   "metadata": {},
   "outputs": [],
   "source": [
    "data.drop(columns='Unnamed: 0', inplace=True)"
   ]
  },
  {
   "cell_type": "code",
   "execution_count": 20,
   "id": "copyrighted-studio",
   "metadata": {},
   "outputs": [],
   "source": [
    "data['task_numeric'] = pd.factorize(data.task)[0]"
   ]
  },
  {
   "cell_type": "code",
   "execution_count": 25,
   "id": "brown-configuration",
   "metadata": {},
   "outputs": [],
   "source": [
    "data.to_csv('./data/rqa_results-1.csv')"
   ]
  },
  {
   "cell_type": "code",
   "execution_count": 24,
   "id": "qualified-revision",
   "metadata": {},
   "outputs": [
    {
     "data": {
      "text/html": [
       "<div>\n",
       "<style scoped>\n",
       "    .dataframe tbody tr th:only-of-type {\n",
       "        vertical-align: middle;\n",
       "    }\n",
       "\n",
       "    .dataframe tbody tr th {\n",
       "        vertical-align: top;\n",
       "    }\n",
       "\n",
       "    .dataframe thead th {\n",
       "        text-align: right;\n",
       "    }\n",
       "</style>\n",
       "<table border=\"1\" class=\"dataframe\">\n",
       "  <thead>\n",
       "    <tr style=\"text-align: right;\">\n",
       "      <th></th>\n",
       "      <th>determinism</th>\n",
       "      <th>recurrence_rate</th>\n",
       "      <th>entropy</th>\n",
       "      <th>longest_diagonal_line</th>\n",
       "      <th>average_diagonal_line</th>\n",
       "      <th>laminarity</th>\n",
       "      <th>divergence</th>\n",
       "      <th>diversity</th>\n",
       "      <th>high_performance</th>\n",
       "      <th>female_majority</th>\n",
       "      <th>task</th>\n",
       "      <th>revise_score</th>\n",
       "      <th>full_credit</th>\n",
       "      <th>half_credit</th>\n",
       "      <th>time</th>\n",
       "      <th>diversity_bin</th>\n",
       "      <th>task_numeric</th>\n",
       "    </tr>\n",
       "  </thead>\n",
       "  <tbody>\n",
       "    <tr>\n",
       "      <th>0</th>\n",
       "      <td>0.582512</td>\n",
       "      <td>0.266930</td>\n",
       "      <td>1.100368</td>\n",
       "      <td>78</td>\n",
       "      <td>2.858006</td>\n",
       "      <td>0.725369</td>\n",
       "      <td>0.012821</td>\n",
       "      <td>3</td>\n",
       "      <td>0</td>\n",
       "      <td>1</td>\n",
       "      <td>Professor</td>\n",
       "      <td>0.00</td>\n",
       "      <td>0</td>\n",
       "      <td>0</td>\n",
       "      <td>1169</td>\n",
       "      <td>1</td>\n",
       "      <td>0</td>\n",
       "    </tr>\n",
       "    <tr>\n",
       "      <th>1</th>\n",
       "      <td>0.446182</td>\n",
       "      <td>0.215632</td>\n",
       "      <td>0.799501</td>\n",
       "      <td>71</td>\n",
       "      <td>2.836257</td>\n",
       "      <td>0.681693</td>\n",
       "      <td>0.014085</td>\n",
       "      <td>2</td>\n",
       "      <td>0</td>\n",
       "      <td>1</td>\n",
       "      <td>Professor</td>\n",
       "      <td>0.00</td>\n",
       "      <td>0</td>\n",
       "      <td>0</td>\n",
       "      <td>731</td>\n",
       "      <td>0</td>\n",
       "      <td>0</td>\n",
       "    </tr>\n",
       "    <tr>\n",
       "      <th>2</th>\n",
       "      <td>0.384615</td>\n",
       "      <td>0.202938</td>\n",
       "      <td>0.805827</td>\n",
       "      <td>33</td>\n",
       "      <td>3.695652</td>\n",
       "      <td>0.538462</td>\n",
       "      <td>0.030303</td>\n",
       "      <td>3</td>\n",
       "      <td>0</td>\n",
       "      <td>0</td>\n",
       "      <td>Professor</td>\n",
       "      <td>0.00</td>\n",
       "      <td>0</td>\n",
       "      <td>0</td>\n",
       "      <td>684</td>\n",
       "      <td>1</td>\n",
       "      <td>0</td>\n",
       "    </tr>\n",
       "    <tr>\n",
       "      <th>3</th>\n",
       "      <td>0.487075</td>\n",
       "      <td>0.208333</td>\n",
       "      <td>0.733035</td>\n",
       "      <td>84</td>\n",
       "      <td>2.622711</td>\n",
       "      <td>0.604082</td>\n",
       "      <td>0.011905</td>\n",
       "      <td>4</td>\n",
       "      <td>0</td>\n",
       "      <td>0</td>\n",
       "      <td>Professor</td>\n",
       "      <td>0.00</td>\n",
       "      <td>0</td>\n",
       "      <td>0</td>\n",
       "      <td>1699</td>\n",
       "      <td>1</td>\n",
       "      <td>0</td>\n",
       "    </tr>\n",
       "    <tr>\n",
       "      <th>4</th>\n",
       "      <td>0.522727</td>\n",
       "      <td>0.207940</td>\n",
       "      <td>0.814195</td>\n",
       "      <td>46</td>\n",
       "      <td>2.911392</td>\n",
       "      <td>0.663636</td>\n",
       "      <td>0.021739</td>\n",
       "      <td>1</td>\n",
       "      <td>0</td>\n",
       "      <td>1</td>\n",
       "      <td>Professor</td>\n",
       "      <td>0.00</td>\n",
       "      <td>0</td>\n",
       "      <td>0</td>\n",
       "      <td>869</td>\n",
       "      <td>0</td>\n",
       "      <td>0</td>\n",
       "    </tr>\n",
       "    <tr>\n",
       "      <th>...</th>\n",
       "      <td>...</td>\n",
       "      <td>...</td>\n",
       "      <td>...</td>\n",
       "      <td>...</td>\n",
       "      <td>...</td>\n",
       "      <td>...</td>\n",
       "      <td>...</td>\n",
       "      <td>...</td>\n",
       "      <td>...</td>\n",
       "      <td>...</td>\n",
       "      <td>...</td>\n",
       "      <td>...</td>\n",
       "      <td>...</td>\n",
       "      <td>...</td>\n",
       "      <td>...</td>\n",
       "      <td>...</td>\n",
       "      <td>...</td>\n",
       "    </tr>\n",
       "    <tr>\n",
       "      <th>95</th>\n",
       "      <td>0.360000</td>\n",
       "      <td>0.308642</td>\n",
       "      <td>0.000000</td>\n",
       "      <td>9</td>\n",
       "      <td>9.000000</td>\n",
       "      <td>0.480000</td>\n",
       "      <td>0.111111</td>\n",
       "      <td>2</td>\n",
       "      <td>1</td>\n",
       "      <td>0</td>\n",
       "      <td>PartyVenue</td>\n",
       "      <td>2.00</td>\n",
       "      <td>1</td>\n",
       "      <td>1</td>\n",
       "      <td>167</td>\n",
       "      <td>0</td>\n",
       "      <td>1</td>\n",
       "    </tr>\n",
       "    <tr>\n",
       "      <th>96</th>\n",
       "      <td>0.627002</td>\n",
       "      <td>0.242778</td>\n",
       "      <td>1.044264</td>\n",
       "      <td>60</td>\n",
       "      <td>2.869110</td>\n",
       "      <td>0.783753</td>\n",
       "      <td>0.016667</td>\n",
       "      <td>3</td>\n",
       "      <td>1</td>\n",
       "      <td>1</td>\n",
       "      <td>apartment</td>\n",
       "      <td>1.25</td>\n",
       "      <td>0</td>\n",
       "      <td>1</td>\n",
       "      <td>1060</td>\n",
       "      <td>1</td>\n",
       "      <td>3</td>\n",
       "    </tr>\n",
       "    <tr>\n",
       "      <th>97</th>\n",
       "      <td>0.428571</td>\n",
       "      <td>0.225806</td>\n",
       "      <td>0.748907</td>\n",
       "      <td>93</td>\n",
       "      <td>2.607477</td>\n",
       "      <td>0.428059</td>\n",
       "      <td>0.010753</td>\n",
       "      <td>3</td>\n",
       "      <td>1</td>\n",
       "      <td>1</td>\n",
       "      <td>PartyVenue</td>\n",
       "      <td>1.50</td>\n",
       "      <td>0</td>\n",
       "      <td>1</td>\n",
       "      <td>1423</td>\n",
       "      <td>1</td>\n",
       "      <td>1</td>\n",
       "    </tr>\n",
       "    <tr>\n",
       "      <th>98</th>\n",
       "      <td>0.561711</td>\n",
       "      <td>0.214753</td>\n",
       "      <td>1.263333</td>\n",
       "      <td>123</td>\n",
       "      <td>3.098472</td>\n",
       "      <td>0.733456</td>\n",
       "      <td>0.008130</td>\n",
       "      <td>2</td>\n",
       "      <td>0</td>\n",
       "      <td>1</td>\n",
       "      <td>candidate</td>\n",
       "      <td>0.00</td>\n",
       "      <td>0</td>\n",
       "      <td>0</td>\n",
       "      <td>1352</td>\n",
       "      <td>0</td>\n",
       "      <td>2</td>\n",
       "    </tr>\n",
       "    <tr>\n",
       "      <th>99</th>\n",
       "      <td>0.639344</td>\n",
       "      <td>0.292800</td>\n",
       "      <td>0.924462</td>\n",
       "      <td>25</td>\n",
       "      <td>3.000000</td>\n",
       "      <td>0.775956</td>\n",
       "      <td>0.040000</td>\n",
       "      <td>4</td>\n",
       "      <td>0</td>\n",
       "      <td>1</td>\n",
       "      <td>PartyVenue</td>\n",
       "      <td>0.50</td>\n",
       "      <td>0</td>\n",
       "      <td>0</td>\n",
       "      <td>900</td>\n",
       "      <td>1</td>\n",
       "      <td>1</td>\n",
       "    </tr>\n",
       "  </tbody>\n",
       "</table>\n",
       "<p>100 rows × 17 columns</p>\n",
       "</div>"
      ],
      "text/plain": [
       "    determinism  recurrence_rate   entropy  longest_diagonal_line  \\\n",
       "0      0.582512         0.266930  1.100368                     78   \n",
       "1      0.446182         0.215632  0.799501                     71   \n",
       "2      0.384615         0.202938  0.805827                     33   \n",
       "3      0.487075         0.208333  0.733035                     84   \n",
       "4      0.522727         0.207940  0.814195                     46   \n",
       "..          ...              ...       ...                    ...   \n",
       "95     0.360000         0.308642  0.000000                      9   \n",
       "96     0.627002         0.242778  1.044264                     60   \n",
       "97     0.428571         0.225806  0.748907                     93   \n",
       "98     0.561711         0.214753  1.263333                    123   \n",
       "99     0.639344         0.292800  0.924462                     25   \n",
       "\n",
       "    average_diagonal_line  laminarity  divergence  diversity  \\\n",
       "0                2.858006    0.725369    0.012821          3   \n",
       "1                2.836257    0.681693    0.014085          2   \n",
       "2                3.695652    0.538462    0.030303          3   \n",
       "3                2.622711    0.604082    0.011905          4   \n",
       "4                2.911392    0.663636    0.021739          1   \n",
       "..                    ...         ...         ...        ...   \n",
       "95               9.000000    0.480000    0.111111          2   \n",
       "96               2.869110    0.783753    0.016667          3   \n",
       "97               2.607477    0.428059    0.010753          3   \n",
       "98               3.098472    0.733456    0.008130          2   \n",
       "99               3.000000    0.775956    0.040000          4   \n",
       "\n",
       "    high_performance  female_majority        task  revise_score  full_credit  \\\n",
       "0                  0                1   Professor          0.00            0   \n",
       "1                  0                1   Professor          0.00            0   \n",
       "2                  0                0   Professor          0.00            0   \n",
       "3                  0                0   Professor          0.00            0   \n",
       "4                  0                1   Professor          0.00            0   \n",
       "..               ...              ...         ...           ...          ...   \n",
       "95                 1                0  PartyVenue          2.00            1   \n",
       "96                 1                1   apartment          1.25            0   \n",
       "97                 1                1  PartyVenue          1.50            0   \n",
       "98                 0                1   candidate          0.00            0   \n",
       "99                 0                1  PartyVenue          0.50            0   \n",
       "\n",
       "    half_credit  time  diversity_bin  task_numeric  \n",
       "0             0  1169              1             0  \n",
       "1             0   731              0             0  \n",
       "2             0   684              1             0  \n",
       "3             0  1699              1             0  \n",
       "4             0   869              0             0  \n",
       "..          ...   ...            ...           ...  \n",
       "95            1   167              0             1  \n",
       "96            1  1060              1             3  \n",
       "97            1  1423              1             1  \n",
       "98            0  1352              0             2  \n",
       "99            0   900              1             1  \n",
       "\n",
       "[100 rows x 17 columns]"
      ]
     },
     "execution_count": 24,
     "metadata": {},
     "output_type": "execute_result"
    }
   ],
   "source": []
  },
  {
   "cell_type": "code",
   "execution_count": null,
   "id": "amino-healthcare",
   "metadata": {},
   "outputs": [],
   "source": []
  },
  {
   "cell_type": "code",
   "execution_count": 9,
   "id": "presidential-front",
   "metadata": {},
   "outputs": [],
   "source": [
    "data.drop(columns='Unnamed: 0', inplace=True)"
   ]
  },
  {
   "cell_type": "code",
   "execution_count": 32,
   "id": "improving-brunswick",
   "metadata": {},
   "outputs": [],
   "source": [
    "measures = list(data.columns[:8])\n",
    "measures.append(\"time\")\n",
    "measures.append(\"task_numeric\")\n",
    "measures.append(\"diversity_bin\")"
   ]
  },
  {
   "cell_type": "code",
   "execution_count": 33,
   "id": "indirect-instrument",
   "metadata": {},
   "outputs": [
    {
     "data": {
      "text/plain": [
       "['determinism',\n",
       " 'recurrence_rate',\n",
       " 'entropy',\n",
       " 'longest_diagonal_line',\n",
       " 'average_diagonal_line',\n",
       " 'laminarity',\n",
       " 'divergence',\n",
       " 'diversity',\n",
       " 'time',\n",
       " 'task_numeric',\n",
       " 'diversity_bin']"
      ]
     },
     "execution_count": 33,
     "metadata": {},
     "output_type": "execute_result"
    }
   ],
   "source": [
    "measures"
   ]
  },
  {
   "cell_type": "code",
   "execution_count": 126,
   "id": "subject-beaver",
   "metadata": {},
   "outputs": [
    {
     "data": {
      "text/plain": [
       "scipy.stats.stats.F_onewayResult"
      ]
     },
     "execution_count": 126,
     "metadata": {},
     "output_type": "execute_result"
    }
   ],
   "source": [
    "type(scipy.stats.f_oneway(task_dif['PartyVenue'], task_dif['Professor'], task_dif['apartment'], task_dif['candidate']))"
   ]
  },
  {
   "cell_type": "code",
   "execution_count": 34,
   "id": "smoking-canada",
   "metadata": {},
   "outputs": [],
   "source": [
    "results = []\n",
    "feature_anova = dict()\n",
    "for i in measures:\n",
    "    task_dif = data.groupby(['task'])[i].apply(list)\n",
    "    results.append(scipy.stats.f_oneway(task_dif['PartyVenue'], task_dif['Professor'], \n",
    "                                                  task_dif['apartment'], task_dif['candidate']).pvalue)\n",
    "feature_anova['task'] = results"
   ]
  },
  {
   "cell_type": "code",
   "execution_count": 35,
   "id": "declared-breast",
   "metadata": {},
   "outputs": [],
   "source": [
    "results = []\n",
    "for i in measures:\n",
    "    div_dif = data.groupby(['diversity'])[i].apply(list)\n",
    "    results.append(scipy.stats.f_oneway(div_dif[1], div_dif[2], div_dif[3], div_dif[4]).pvalue)\n",
    "    \n",
    "feature_anova['diversity'] = results"
   ]
  },
  {
   "cell_type": "code",
   "execution_count": 37,
   "id": "cardiac-presence",
   "metadata": {},
   "outputs": [
    {
     "data": {
      "text/html": [
       "<div>\n",
       "<style scoped>\n",
       "    .dataframe tbody tr th:only-of-type {\n",
       "        vertical-align: middle;\n",
       "    }\n",
       "\n",
       "    .dataframe tbody tr th {\n",
       "        vertical-align: top;\n",
       "    }\n",
       "\n",
       "    .dataframe thead th {\n",
       "        text-align: right;\n",
       "    }\n",
       "</style>\n",
       "<table border=\"1\" class=\"dataframe\">\n",
       "  <thead>\n",
       "    <tr style=\"text-align: right;\">\n",
       "      <th></th>\n",
       "      <th>determinism</th>\n",
       "      <th>recurrence_rate</th>\n",
       "      <th>entropy</th>\n",
       "      <th>longest_diagonal_line</th>\n",
       "      <th>average_diagonal_line</th>\n",
       "      <th>laminarity</th>\n",
       "      <th>divergence</th>\n",
       "      <th>diversity</th>\n",
       "      <th>time</th>\n",
       "      <th>task_numeric</th>\n",
       "      <th>diversity_bin</th>\n",
       "    </tr>\n",
       "    <tr>\n",
       "      <th>diversity</th>\n",
       "      <th></th>\n",
       "      <th></th>\n",
       "      <th></th>\n",
       "      <th></th>\n",
       "      <th></th>\n",
       "      <th></th>\n",
       "      <th></th>\n",
       "      <th></th>\n",
       "      <th></th>\n",
       "      <th></th>\n",
       "      <th></th>\n",
       "    </tr>\n",
       "  </thead>\n",
       "  <tbody>\n",
       "    <tr>\n",
       "      <th>1</th>\n",
       "      <td>0.560710</td>\n",
       "      <td>0.235155</td>\n",
       "      <td>1.015114</td>\n",
       "      <td>40.000000</td>\n",
       "      <td>3.572594</td>\n",
       "      <td>0.699696</td>\n",
       "      <td>0.027810</td>\n",
       "      <td>1.0</td>\n",
       "      <td>715.142857</td>\n",
       "      <td>1.571429</td>\n",
       "      <td>0.0</td>\n",
       "    </tr>\n",
       "    <tr>\n",
       "      <th>2</th>\n",
       "      <td>0.560186</td>\n",
       "      <td>0.246577</td>\n",
       "      <td>1.009495</td>\n",
       "      <td>50.047619</td>\n",
       "      <td>3.622689</td>\n",
       "      <td>0.664361</td>\n",
       "      <td>0.029939</td>\n",
       "      <td>2.0</td>\n",
       "      <td>727.333333</td>\n",
       "      <td>1.428571</td>\n",
       "      <td>0.0</td>\n",
       "    </tr>\n",
       "    <tr>\n",
       "      <th>3</th>\n",
       "      <td>0.521610</td>\n",
       "      <td>0.247238</td>\n",
       "      <td>0.870890</td>\n",
       "      <td>59.787879</td>\n",
       "      <td>3.149809</td>\n",
       "      <td>0.653979</td>\n",
       "      <td>0.026203</td>\n",
       "      <td>3.0</td>\n",
       "      <td>892.181818</td>\n",
       "      <td>1.666667</td>\n",
       "      <td>1.0</td>\n",
       "    </tr>\n",
       "    <tr>\n",
       "      <th>4</th>\n",
       "      <td>0.572886</td>\n",
       "      <td>0.241564</td>\n",
       "      <td>1.215197</td>\n",
       "      <td>74.285714</td>\n",
       "      <td>3.546506</td>\n",
       "      <td>0.698966</td>\n",
       "      <td>0.016688</td>\n",
       "      <td>4.0</td>\n",
       "      <td>1090.857143</td>\n",
       "      <td>1.571429</td>\n",
       "      <td>1.0</td>\n",
       "    </tr>\n",
       "  </tbody>\n",
       "</table>\n",
       "</div>"
      ],
      "text/plain": [
       "           determinism  recurrence_rate   entropy  longest_diagonal_line  \\\n",
       "diversity                                                                  \n",
       "1             0.560710         0.235155  1.015114              40.000000   \n",
       "2             0.560186         0.246577  1.009495              50.047619   \n",
       "3             0.521610         0.247238  0.870890              59.787879   \n",
       "4             0.572886         0.241564  1.215197              74.285714   \n",
       "\n",
       "           average_diagonal_line  laminarity  divergence  diversity  \\\n",
       "diversity                                                             \n",
       "1                       3.572594    0.699696    0.027810        1.0   \n",
       "2                       3.622689    0.664361    0.029939        2.0   \n",
       "3                       3.149809    0.653979    0.026203        3.0   \n",
       "4                       3.546506    0.698966    0.016688        4.0   \n",
       "\n",
       "                  time  task_numeric  diversity_bin  \n",
       "diversity                                            \n",
       "1           715.142857      1.571429            0.0  \n",
       "2           727.333333      1.428571            0.0  \n",
       "3           892.181818      1.666667            1.0  \n",
       "4          1090.857143      1.571429            1.0  "
      ]
     },
     "execution_count": 37,
     "metadata": {},
     "output_type": "execute_result"
    }
   ],
   "source": [
    "data.groupby(['diversity'])[measures].mean()"
   ]
  },
  {
   "cell_type": "code",
   "execution_count": 156,
   "id": "stuck-wings",
   "metadata": {},
   "outputs": [],
   "source": [
    "hp_div = Xtrain.groupby(['diversity'])['high_performance'].apply(list)"
   ]
  },
  {
   "cell_type": "code",
   "execution_count": 157,
   "id": "false-clinic",
   "metadata": {},
   "outputs": [
    {
     "data": {
      "text/plain": [
       "F_onewayResult(statistic=0.6638741509829948, pvalue=0.5757780013564215)"
      ]
     },
     "execution_count": 157,
     "metadata": {},
     "output_type": "execute_result"
    }
   ],
   "source": [
    "scipy.stats.f_oneway(hp_div[1], hp_div[2], hp_div[3], hp_div[4])"
   ]
  },
  {
   "cell_type": "code",
   "execution_count": 159,
   "id": "suspended-mineral",
   "metadata": {},
   "outputs": [
    {
     "data": {
      "text/plain": [
       "diversity\n",
       "1    0.214286\n",
       "2    0.398810\n",
       "3    0.429924\n",
       "4    0.562500\n",
       "Name: revise_score, dtype: float64"
      ]
     },
     "execution_count": 159,
     "metadata": {},
     "output_type": "execute_result"
    }
   ],
   "source": [
    "Xtrain.groupby(['diversity'])['revise_score'].mean()"
   ]
  },
  {
   "cell_type": "code",
   "execution_count": 161,
   "id": "loved-playback",
   "metadata": {},
   "outputs": [
    {
     "data": {
      "text/plain": [
       "high_performance\n",
       "0     792.010638\n",
       "1    1007.457143\n",
       "Name: time, dtype: float64"
      ]
     },
     "execution_count": 161,
     "metadata": {},
     "output_type": "execute_result"
    }
   ],
   "source": [
    "Xtrain.groupby(['high_performance'])['time'].mean()"
   ]
  },
  {
   "cell_type": "code",
   "execution_count": null,
   "id": "mineral-threat",
   "metadata": {},
   "outputs": [],
   "source": []
  },
  {
   "cell_type": "code",
   "execution_count": 160,
   "id": "demanding-anxiety",
   "metadata": {},
   "outputs": [
    {
     "data": {
      "text/plain": [
       "F_onewayResult(statistic=0.40935836963664735, pvalue=0.7465481634140867)"
      ]
     },
     "execution_count": 160,
     "metadata": {},
     "output_type": "execute_result"
    }
   ],
   "source": [
    "hp_div = Xtrain.groupby(['diversity'])['revise_score'].apply(list)\n",
    "scipy.stats.f_oneway(hp_div[1], hp_div[2], hp_div[3], hp_div[4])"
   ]
  },
  {
   "cell_type": "code",
   "execution_count": 155,
   "id": "valued-holiday",
   "metadata": {},
   "outputs": [
    {
     "data": {
      "text/plain": [
       "task\n",
       "PartyVenue    0.719697\n",
       "Professor     0.444444\n",
       "apartment     0.488281\n",
       "candidate     0.084459\n",
       "Name: revise_score, dtype: float64"
      ]
     },
     "execution_count": 155,
     "metadata": {},
     "output_type": "execute_result"
    }
   ],
   "source": [
    "Xtrain.groupby(['task'])['revise_score'].mean()"
   ]
  },
  {
   "cell_type": "code",
   "execution_count": 38,
   "id": "suburban-scheme",
   "metadata": {},
   "outputs": [],
   "source": [
    "results = []\n",
    "for i in measures:\n",
    "    fm_dif = data.groupby(['female_majority'])[i].apply(list)\n",
    "    results.append(scipy.stats.f_oneway(fm_dif[0], fm_dif[1]).pvalue)\n",
    "    \n",
    "feature_anova['female_majority'] = results"
   ]
  },
  {
   "cell_type": "code",
   "execution_count": 143,
   "id": "bizarre-payday",
   "metadata": {},
   "outputs": [
    {
     "data": {
      "text/plain": [
       "{'task': [0.7947459216481142,\n",
       "  0.2621093545719431,\n",
       "  0.10833817525429068,\n",
       "  0.6515454129762599,\n",
       "  0.6034232111713993,\n",
       "  0.24481451731432646,\n",
       "  0.5027478166318532,\n",
       "  0.9168457026591816,\n",
       "  0.32306526044125283],\n",
       " 'diversity': [0.21321420561008525,\n",
       "  0.9337146580248455,\n",
       "  0.021957380446581434,\n",
       "  0.032758203581730615,\n",
       "  0.19086934998344113,\n",
       "  0.5761251238888625,\n",
       "  0.3678491181744475,\n",
       "  0.0,\n",
       "  0.014920851192695345],\n",
       " 'female_majority': [0.9225487998276599,\n",
       "  0.23529217956384185,\n",
       "  0.769933676890663,\n",
       "  0.18673479197294127,\n",
       "  0.7982488992614457,\n",
       "  0.1931809972440049,\n",
       "  0.4830168027874354,\n",
       "  0.03344747316940811,\n",
       "  0.13332758421661953]}"
      ]
     },
     "execution_count": 143,
     "metadata": {},
     "output_type": "execute_result"
    }
   ],
   "source": [
    "feature_anova"
   ]
  },
  {
   "cell_type": "code",
   "execution_count": 39,
   "id": "helpful-blink",
   "metadata": {},
   "outputs": [],
   "source": [
    "results = []\n",
    "for i in measures:\n",
    "    perf_dif = data.groupby(['high_performance'])[i].apply(list)\n",
    "    results.append(scipy.stats.f_oneway(perf_dif[0], perf_dif[1]).pvalue)\n",
    "    \n",
    "feature_anova['high_performance'] = results"
   ]
  },
  {
   "cell_type": "code",
   "execution_count": 40,
   "id": "smart-symphony",
   "metadata": {},
   "outputs": [
    {
     "name": "stderr",
     "output_type": "stream",
     "text": [
      "/Library/Frameworks/Python.framework/Versions/3.9/lib/python3.9/site-packages/scipy/stats/stats.py:3709: F_onewayConstantInputWarning: Each of the input arrays is constant;the F statistic is not defined or infinite\n",
      "  warnings.warn(F_onewayConstantInputWarning())\n"
     ]
    }
   ],
   "source": [
    "results = []\n",
    "for i in measures:\n",
    "    divbin_dif = data.groupby(['diversity_bin'])[i].apply(list)\n",
    "    results.append(scipy.stats.f_oneway(divbin_dif[0], divbin_dif[1]).pvalue)\n",
    "    \n",
    "feature_anova['diversity_bin'] = results"
   ]
  },
  {
   "cell_type": "code",
   "execution_count": 41,
   "id": "painful-recognition",
   "metadata": {},
   "outputs": [
    {
     "data": {
      "text/plain": [
       "{'task': [0.7947459216481142,\n",
       "  0.2621093545719431,\n",
       "  0.10833817525429068,\n",
       "  0.6515454129762599,\n",
       "  0.6034232111713993,\n",
       "  0.24481451731432646,\n",
       "  0.502747816631856,\n",
       "  0.9168457026591816,\n",
       "  0.32306526044125283,\n",
       "  0.0,\n",
       "  0.6642659650094789],\n",
       " 'diversity': [0.21321420561008525,\n",
       "  0.9337146580248455,\n",
       "  0.021957380446581434,\n",
       "  0.032758203581730615,\n",
       "  0.19086934998344113,\n",
       "  0.5761251238888596,\n",
       "  0.3678491181744475,\n",
       "  0.0,\n",
       "  0.014920851192695345,\n",
       "  0.7465134477320103,\n",
       "  0.0],\n",
       " 'female_majority': [0.9225487998276599,\n",
       "  0.23529217956384185,\n",
       "  0.769933676890663,\n",
       "  0.18673479197294127,\n",
       "  0.7982488992614457,\n",
       "  0.1931809972440049,\n",
       "  0.4830168027874354,\n",
       "  0.03344747316940811,\n",
       "  0.13332758421661953,\n",
       "  0.67097290529112,\n",
       "  0.0500603692189969],\n",
       " 'high_performance': [0.6900035583806565,\n",
       "  0.005338224591086321,\n",
       "  0.35192189301621957,\n",
       "  0.005892226842026114,\n",
       "  0.4102356472991384,\n",
       "  0.8223963590108994,\n",
       "  0.035970078486852956,\n",
       "  0.24181643824482313,\n",
       "  0.0068602359540629,\n",
       "  0.8444149915028851,\n",
       "  0.1816306992548056],\n",
       " 'diversity_bin': [0.14731163438455122,\n",
       "  0.8918998400807729,\n",
       "  0.28437390491951475,\n",
       "  0.017027344137291484,\n",
       "  0.06352512772980894,\n",
       "  0.7452610108961953,\n",
       "  0.24708336867187464,\n",
       "  4.2688564214350706e-40,\n",
       "  0.005784420139955769,\n",
       "  0.3071309017024804,\n",
       "  0.0]}"
      ]
     },
     "execution_count": 41,
     "metadata": {},
     "output_type": "execute_result"
    }
   ],
   "source": [
    "feature_anova"
   ]
  },
  {
   "cell_type": "code",
   "execution_count": 42,
   "id": "expected-viewer",
   "metadata": {},
   "outputs": [],
   "source": [
    "anova_results = pd.DataFrame(feature_anova).transpose()\n",
    "anova_results.columns = measures"
   ]
  },
  {
   "cell_type": "code",
   "execution_count": 52,
   "id": "charitable-cambodia",
   "metadata": {},
   "outputs": [
    {
     "data": {
      "text/html": [
       "<style  type=\"text/css\" >\n",
       "#T_21dd5_row0_col9,#T_21dd5_row1_col2,#T_21dd5_row1_col3,#T_21dd5_row1_col7,#T_21dd5_row1_col8,#T_21dd5_row1_col10,#T_21dd5_row2_col7,#T_21dd5_row3_col1,#T_21dd5_row3_col3,#T_21dd5_row3_col6,#T_21dd5_row3_col8,#T_21dd5_row4_col3,#T_21dd5_row4_col7,#T_21dd5_row4_col8,#T_21dd5_row4_col10{\n",
       "            background:  yellow;\n",
       "        }</style><table id=\"T_21dd5_\" ><thead>    <tr>        <th class=\"blank level0\" ></th>        <th class=\"col_heading level0 col0\" >determinism</th>        <th class=\"col_heading level0 col1\" >recurrence_rate</th>        <th class=\"col_heading level0 col2\" >entropy</th>        <th class=\"col_heading level0 col3\" >longest_diagonal_line</th>        <th class=\"col_heading level0 col4\" >average_diagonal_line</th>        <th class=\"col_heading level0 col5\" >laminarity</th>        <th class=\"col_heading level0 col6\" >divergence</th>        <th class=\"col_heading level0 col7\" >diversity</th>        <th class=\"col_heading level0 col8\" >time</th>        <th class=\"col_heading level0 col9\" >task_numeric</th>        <th class=\"col_heading level0 col10\" >diversity_bin</th>    </tr></thead><tbody>\n",
       "                <tr>\n",
       "                        <th id=\"T_21dd5_level0_row0\" class=\"row_heading level0 row0\" >task</th>\n",
       "                        <td id=\"T_21dd5_row0_col0\" class=\"data row0 col0\" >0.794746</td>\n",
       "                        <td id=\"T_21dd5_row0_col1\" class=\"data row0 col1\" >0.262109</td>\n",
       "                        <td id=\"T_21dd5_row0_col2\" class=\"data row0 col2\" >0.108338</td>\n",
       "                        <td id=\"T_21dd5_row0_col3\" class=\"data row0 col3\" >0.651545</td>\n",
       "                        <td id=\"T_21dd5_row0_col4\" class=\"data row0 col4\" >0.603423</td>\n",
       "                        <td id=\"T_21dd5_row0_col5\" class=\"data row0 col5\" >0.244815</td>\n",
       "                        <td id=\"T_21dd5_row0_col6\" class=\"data row0 col6\" >0.502748</td>\n",
       "                        <td id=\"T_21dd5_row0_col7\" class=\"data row0 col7\" >0.916846</td>\n",
       "                        <td id=\"T_21dd5_row0_col8\" class=\"data row0 col8\" >0.323065</td>\n",
       "                        <td id=\"T_21dd5_row0_col9\" class=\"data row0 col9\" >0.000000</td>\n",
       "                        <td id=\"T_21dd5_row0_col10\" class=\"data row0 col10\" >0.664266</td>\n",
       "            </tr>\n",
       "            <tr>\n",
       "                        <th id=\"T_21dd5_level0_row1\" class=\"row_heading level0 row1\" >diversity</th>\n",
       "                        <td id=\"T_21dd5_row1_col0\" class=\"data row1 col0\" >0.213214</td>\n",
       "                        <td id=\"T_21dd5_row1_col1\" class=\"data row1 col1\" >0.933715</td>\n",
       "                        <td id=\"T_21dd5_row1_col2\" class=\"data row1 col2\" >0.021957</td>\n",
       "                        <td id=\"T_21dd5_row1_col3\" class=\"data row1 col3\" >0.032758</td>\n",
       "                        <td id=\"T_21dd5_row1_col4\" class=\"data row1 col4\" >0.190869</td>\n",
       "                        <td id=\"T_21dd5_row1_col5\" class=\"data row1 col5\" >0.576125</td>\n",
       "                        <td id=\"T_21dd5_row1_col6\" class=\"data row1 col6\" >0.367849</td>\n",
       "                        <td id=\"T_21dd5_row1_col7\" class=\"data row1 col7\" >0.000000</td>\n",
       "                        <td id=\"T_21dd5_row1_col8\" class=\"data row1 col8\" >0.014921</td>\n",
       "                        <td id=\"T_21dd5_row1_col9\" class=\"data row1 col9\" >0.746513</td>\n",
       "                        <td id=\"T_21dd5_row1_col10\" class=\"data row1 col10\" >0.000000</td>\n",
       "            </tr>\n",
       "            <tr>\n",
       "                        <th id=\"T_21dd5_level0_row2\" class=\"row_heading level0 row2\" >female_majority</th>\n",
       "                        <td id=\"T_21dd5_row2_col0\" class=\"data row2 col0\" >0.922549</td>\n",
       "                        <td id=\"T_21dd5_row2_col1\" class=\"data row2 col1\" >0.235292</td>\n",
       "                        <td id=\"T_21dd5_row2_col2\" class=\"data row2 col2\" >0.769934</td>\n",
       "                        <td id=\"T_21dd5_row2_col3\" class=\"data row2 col3\" >0.186735</td>\n",
       "                        <td id=\"T_21dd5_row2_col4\" class=\"data row2 col4\" >0.798249</td>\n",
       "                        <td id=\"T_21dd5_row2_col5\" class=\"data row2 col5\" >0.193181</td>\n",
       "                        <td id=\"T_21dd5_row2_col6\" class=\"data row2 col6\" >0.483017</td>\n",
       "                        <td id=\"T_21dd5_row2_col7\" class=\"data row2 col7\" >0.033447</td>\n",
       "                        <td id=\"T_21dd5_row2_col8\" class=\"data row2 col8\" >0.133328</td>\n",
       "                        <td id=\"T_21dd5_row2_col9\" class=\"data row2 col9\" >0.670973</td>\n",
       "                        <td id=\"T_21dd5_row2_col10\" class=\"data row2 col10\" >0.050060</td>\n",
       "            </tr>\n",
       "            <tr>\n",
       "                        <th id=\"T_21dd5_level0_row3\" class=\"row_heading level0 row3\" >high_performance</th>\n",
       "                        <td id=\"T_21dd5_row3_col0\" class=\"data row3 col0\" >0.690004</td>\n",
       "                        <td id=\"T_21dd5_row3_col1\" class=\"data row3 col1\" >0.005338</td>\n",
       "                        <td id=\"T_21dd5_row3_col2\" class=\"data row3 col2\" >0.351922</td>\n",
       "                        <td id=\"T_21dd5_row3_col3\" class=\"data row3 col3\" >0.005892</td>\n",
       "                        <td id=\"T_21dd5_row3_col4\" class=\"data row3 col4\" >0.410236</td>\n",
       "                        <td id=\"T_21dd5_row3_col5\" class=\"data row3 col5\" >0.822396</td>\n",
       "                        <td id=\"T_21dd5_row3_col6\" class=\"data row3 col6\" >0.035970</td>\n",
       "                        <td id=\"T_21dd5_row3_col7\" class=\"data row3 col7\" >0.241816</td>\n",
       "                        <td id=\"T_21dd5_row3_col8\" class=\"data row3 col8\" >0.006860</td>\n",
       "                        <td id=\"T_21dd5_row3_col9\" class=\"data row3 col9\" >0.844415</td>\n",
       "                        <td id=\"T_21dd5_row3_col10\" class=\"data row3 col10\" >0.181631</td>\n",
       "            </tr>\n",
       "            <tr>\n",
       "                        <th id=\"T_21dd5_level0_row4\" class=\"row_heading level0 row4\" >diversity_bin</th>\n",
       "                        <td id=\"T_21dd5_row4_col0\" class=\"data row4 col0\" >0.147312</td>\n",
       "                        <td id=\"T_21dd5_row4_col1\" class=\"data row4 col1\" >0.891900</td>\n",
       "                        <td id=\"T_21dd5_row4_col2\" class=\"data row4 col2\" >0.284374</td>\n",
       "                        <td id=\"T_21dd5_row4_col3\" class=\"data row4 col3\" >0.017027</td>\n",
       "                        <td id=\"T_21dd5_row4_col4\" class=\"data row4 col4\" >0.063525</td>\n",
       "                        <td id=\"T_21dd5_row4_col5\" class=\"data row4 col5\" >0.745261</td>\n",
       "                        <td id=\"T_21dd5_row4_col6\" class=\"data row4 col6\" >0.247083</td>\n",
       "                        <td id=\"T_21dd5_row4_col7\" class=\"data row4 col7\" >0.000000</td>\n",
       "                        <td id=\"T_21dd5_row4_col8\" class=\"data row4 col8\" >0.005784</td>\n",
       "                        <td id=\"T_21dd5_row4_col9\" class=\"data row4 col9\" >0.307131</td>\n",
       "                        <td id=\"T_21dd5_row4_col10\" class=\"data row4 col10\" >0.000000</td>\n",
       "            </tr>\n",
       "    </tbody></table>"
      ],
      "text/plain": [
       "<pandas.io.formats.style.Styler at 0x7faf69fd1e80>"
      ]
     },
     "execution_count": 52,
     "metadata": {},
     "output_type": "execute_result"
    }
   ],
   "source": [
    "anova_results\n",
    "anova_results.style.apply(lambda x: [\"background: yellow\" if v <= 0.05 else \"\" for v in x], axis = 1)"
   ]
  },
  {
   "cell_type": "code",
   "execution_count": 99,
   "id": "romantic-samoa",
   "metadata": {
    "scrolled": true
   },
   "outputs": [
    {
     "data": {
      "text/html": [
       "<div>\n",
       "<style scoped>\n",
       "    .dataframe tbody tr th:only-of-type {\n",
       "        vertical-align: middle;\n",
       "    }\n",
       "\n",
       "    .dataframe tbody tr th {\n",
       "        vertical-align: top;\n",
       "    }\n",
       "\n",
       "    .dataframe thead th {\n",
       "        text-align: right;\n",
       "    }\n",
       "</style>\n",
       "<table border=\"1\" class=\"dataframe\">\n",
       "  <thead>\n",
       "    <tr style=\"text-align: right;\">\n",
       "      <th></th>\n",
       "      <th>determinism</th>\n",
       "      <th>recurrence_rate</th>\n",
       "      <th>entropy</th>\n",
       "      <th>longest_diagonal_line</th>\n",
       "      <th>average_diagonal_line</th>\n",
       "      <th>laminarity</th>\n",
       "      <th>divergence</th>\n",
       "      <th>diversity</th>\n",
       "      <th>time</th>\n",
       "    </tr>\n",
       "    <tr>\n",
       "      <th>high_performance</th>\n",
       "      <th></th>\n",
       "      <th></th>\n",
       "      <th></th>\n",
       "      <th></th>\n",
       "      <th></th>\n",
       "      <th></th>\n",
       "      <th></th>\n",
       "      <th></th>\n",
       "      <th></th>\n",
       "    </tr>\n",
       "  </thead>\n",
       "  <tbody>\n",
       "    <tr>\n",
       "      <th>0</th>\n",
       "      <td>0.539428</td>\n",
       "      <td>0.237981</td>\n",
       "      <td>0.940815</td>\n",
       "      <td>52.446809</td>\n",
       "      <td>3.422138</td>\n",
       "      <td>0.666269</td>\n",
       "      <td>0.029193</td>\n",
       "      <td>2.62766</td>\n",
       "      <td>792.010638</td>\n",
       "    </tr>\n",
       "    <tr>\n",
       "      <th>1</th>\n",
       "      <td>0.548378</td>\n",
       "      <td>0.266621</td>\n",
       "      <td>1.015985</td>\n",
       "      <td>69.657143</td>\n",
       "      <td>3.229105</td>\n",
       "      <td>0.660569</td>\n",
       "      <td>0.019172</td>\n",
       "      <td>2.80000</td>\n",
       "      <td>1007.457143</td>\n",
       "    </tr>\n",
       "  </tbody>\n",
       "</table>\n",
       "</div>"
      ],
      "text/plain": [
       "                  determinism  recurrence_rate   entropy  \\\n",
       "high_performance                                           \n",
       "0                    0.539428         0.237981  0.940815   \n",
       "1                    0.548378         0.266621  1.015985   \n",
       "\n",
       "                  longest_diagonal_line  average_diagonal_line  laminarity  \\\n",
       "high_performance                                                             \n",
       "0                             52.446809               3.422138    0.666269   \n",
       "1                             69.657143               3.229105    0.660569   \n",
       "\n",
       "                  divergence  diversity         time  \n",
       "high_performance                                      \n",
       "0                   0.029193    2.62766   792.010638  \n",
       "1                   0.019172    2.80000  1007.457143  "
      ]
     },
     "execution_count": 99,
     "metadata": {},
     "output_type": "execute_result"
    }
   ],
   "source": [
    "Xtrain.groupby(['high_performance'])[measures].mean()"
   ]
  },
  {
   "cell_type": "code",
   "execution_count": 75,
   "id": "legendary-failure",
   "metadata": {},
   "outputs": [
    {
     "data": {
      "text/html": [
       "<div>\n",
       "<style scoped>\n",
       "    .dataframe tbody tr th:only-of-type {\n",
       "        vertical-align: middle;\n",
       "    }\n",
       "\n",
       "    .dataframe tbody tr th {\n",
       "        vertical-align: top;\n",
       "    }\n",
       "\n",
       "    .dataframe thead th {\n",
       "        text-align: right;\n",
       "    }\n",
       "</style>\n",
       "<table border=\"1\" class=\"dataframe\">\n",
       "  <thead>\n",
       "    <tr style=\"text-align: right;\">\n",
       "      <th></th>\n",
       "      <th>determinism</th>\n",
       "      <th>recurrence_rate</th>\n",
       "      <th>entropy</th>\n",
       "      <th>longest_diagonal_line</th>\n",
       "      <th>average_diagonal_line</th>\n",
       "      <th>laminarity</th>\n",
       "      <th>divergence</th>\n",
       "      <th>female_majority</th>\n",
       "      <th>high_performance</th>\n",
       "    </tr>\n",
       "    <tr>\n",
       "      <th>female_majority</th>\n",
       "      <th></th>\n",
       "      <th></th>\n",
       "      <th></th>\n",
       "      <th></th>\n",
       "      <th></th>\n",
       "      <th></th>\n",
       "      <th></th>\n",
       "      <th></th>\n",
       "      <th></th>\n",
       "    </tr>\n",
       "  </thead>\n",
       "  <tbody>\n",
       "    <tr>\n",
       "      <th>0</th>\n",
       "      <td>0.540596</td>\n",
       "      <td>0.252887</td>\n",
       "      <td>0.974872</td>\n",
       "      <td>61.937500</td>\n",
       "      <td>3.404416</td>\n",
       "      <td>0.645700</td>\n",
       "      <td>0.028425</td>\n",
       "      <td>0.0</td>\n",
       "      <td>0.312500</td>\n",
       "    </tr>\n",
       "    <tr>\n",
       "      <th>1</th>\n",
       "      <td>0.542603</td>\n",
       "      <td>0.241522</td>\n",
       "      <td>0.953114</td>\n",
       "      <td>54.259259</td>\n",
       "      <td>3.349230</td>\n",
       "      <td>0.675995</td>\n",
       "      <td>0.025318</td>\n",
       "      <td>1.0</td>\n",
       "      <td>0.246914</td>\n",
       "    </tr>\n",
       "  </tbody>\n",
       "</table>\n",
       "</div>"
      ],
      "text/plain": [
       "                 determinism  recurrence_rate   entropy  \\\n",
       "female_majority                                           \n",
       "0                   0.540596         0.252887  0.974872   \n",
       "1                   0.542603         0.241522  0.953114   \n",
       "\n",
       "                 longest_diagonal_line  average_diagonal_line  laminarity  \\\n",
       "female_majority                                                             \n",
       "0                            61.937500               3.404416    0.645700   \n",
       "1                            54.259259               3.349230    0.675995   \n",
       "\n",
       "                 divergence  female_majority  high_performance  \n",
       "female_majority                                                 \n",
       "0                  0.028425              0.0          0.312500  \n",
       "1                  0.025318              1.0          0.246914  "
      ]
     },
     "execution_count": 75,
     "metadata": {},
     "output_type": "execute_result"
    }
   ],
   "source": [
    "Xtrain.groupby(['female_majority'])[[\"determinism\", \"recurrence_rate\", \"entropy\", \"longest_diagonal_line\", \n",
    "                                     \"average_diagonal_line\", \"laminarity\",\n",
    "                 \"divergence\", \"female_majority\", \"high_performance\"]].mean()"
   ]
  },
  {
   "cell_type": "code",
   "execution_count": null,
   "id": "recognized-charity",
   "metadata": {},
   "outputs": [],
   "source": []
  }
 ],
 "metadata": {
  "kernelspec": {
   "display_name": "Python 3",
   "language": "python",
   "name": "python3"
  },
  "language_info": {
   "codemirror_mode": {
    "name": "ipython",
    "version": 3
   },
   "file_extension": ".py",
   "mimetype": "text/x-python",
   "name": "python",
   "nbconvert_exporter": "python",
   "pygments_lexer": "ipython3",
   "version": "3.9.1"
  }
 },
 "nbformat": 4,
 "nbformat_minor": 5
}
