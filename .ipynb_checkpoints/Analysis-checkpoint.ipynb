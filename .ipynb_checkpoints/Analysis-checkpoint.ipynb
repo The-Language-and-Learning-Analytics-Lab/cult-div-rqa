{
 "cells": [
  {
   "cell_type": "code",
   "execution_count": 15,
   "id": "strategic-estate",
   "metadata": {},
   "outputs": [],
   "source": [
    "import pyrqa\n",
    "import pandas as pd\n",
    "import numpy as np"
   ]
  },
  {
   "cell_type": "code",
   "execution_count": 16,
   "id": "described-school",
   "metadata": {},
   "outputs": [],
   "source": [
    "data = pd.read_csv('codes_scores_gender_merged.csv')"
   ]
  },
  {
   "cell_type": "code",
   "execution_count": 17,
   "id": "decreased-saturn",
   "metadata": {},
   "outputs": [],
   "source": [
    "a = data['Primary code '].unique()"
   ]
  },
  {
   "cell_type": "code",
   "execution_count": 18,
   "id": "returning-nation",
   "metadata": {},
   "outputs": [
    {
     "data": {
      "text/plain": [
       "array(['SMC', 'CM', 'CE', 'SSI', 'CRF', 'SESU', 'SN', 'CP', 'EM', 'TD'],\n",
       "      dtype=object)"
      ]
     },
     "execution_count": 18,
     "metadata": {},
     "output_type": "execute_result"
    }
   ],
   "source": [
    "a"
   ]
  },
  {
   "cell_type": "code",
   "execution_count": 19,
   "id": "entitled-opinion",
   "metadata": {},
   "outputs": [
    {
     "data": {
      "text/plain": [
       "LabelEncoder()"
      ]
     },
     "execution_count": 19,
     "metadata": {},
     "output_type": "execute_result"
    }
   ],
   "source": [
    "from numpy import asarray\n",
    "from sklearn.preprocessing import LabelEncoder\n",
    "# define data\n",
    "a = data['Primary code ']\n",
    "# define one hot encoding\n",
    "encoder = LabelEncoder()\n",
    "# transform data\n",
    "encoder.fit(a)"
   ]
  },
  {
   "cell_type": "code",
   "execution_count": 20,
   "id": "latter-riding",
   "metadata": {},
   "outputs": [],
   "source": [
    "codes_list = data.groupby(['team_id'])['Primary code '].apply(list)"
   ]
  },
  {
   "cell_type": "code",
   "execution_count": 21,
   "id": "advised-cardiff",
   "metadata": {},
   "outputs": [],
   "source": [
    "from pyrqa.analysis_type import Cross\n",
    "from pyrqa.time_series import TimeSeries\n",
    "from pyrqa.settings import Settings\n",
    "from pyrqa.analysis_type import Classic\n",
    "from pyrqa.neighbourhood import FixedRadius\n",
    "from pyrqa.metric import EuclideanMetric\n",
    "from pyrqa.computation import RQAComputation\n",
    "\n",
    "x = []\n",
    "\n",
    "\n",
    "for i in codes_list:\n",
    "    data_points_x = encoder.transform(i)\n",
    "    time_series_x = TimeSeries(data_points_x,\n",
    "                               embedding_dimension=1,\n",
    "                               time_delay=0)\n",
    "    time_series = (time_series_x,\n",
    "                   time_series_x)\n",
    "    settings = Settings(time_series,\n",
    "                        analysis_type=Cross,\n",
    "                        neighbourhood=FixedRadius(0.5),\n",
    "                        similarity_measure=EuclideanMetric,\n",
    "                        theiler_corrector=0)\n",
    "    computation = RQAComputation.create(settings,\n",
    "                                        verbose=False)\n",
    "    result = computation.run()\n",
    "    result.min_diagonal_line_length = 2\n",
    "    result.min_vertical_line_length = 2\n",
    "    result.min_white_vertical_line_length = 2\n",
    "    #print(result)\n",
    "    x.append([result.determinism, result.recurrence_rate, result.entropy_diagonal_lines,\n",
    "             result.longest_diagonal_line, result.laminarity,\n",
    "             result.divergence, len(data_points_x)])\n",
    "    "
   ]
  },
  {
   "cell_type": "code",
   "execution_count": 22,
   "id": "rough-productivity",
   "metadata": {},
   "outputs": [],
   "source": [
    "import numpy as np\n",
    "\n",
    "Xtrain = pd.DataFrame(x)\n",
    "#Xtrain = Xtrain.transpose()\n",
    "Xtrain.columns = [\"determinism\", \"recurrence_rate\", \"entropy\", \"longest_diagonal_line\", \"laminarity\",\n",
    "                 \"divergence\", \"num_messages\"]\n",
    "\n",
    "Ytrain = data.groupby(['team_id'])['high_performance'].unique()"
   ]
  },
  {
   "cell_type": "code",
   "execution_count": 23,
   "id": "faced-commercial",
   "metadata": {},
   "outputs": [
    {
     "data": {
      "text/plain": [
       "0      27\n",
       "1      10\n",
       "2      25\n",
       "3      44\n",
       "4      45\n",
       "       ..\n",
       "816    84\n",
       "817    21\n",
       "818    64\n",
       "819    10\n",
       "820    37\n",
       "Name: num_messages, Length: 821, dtype: int64"
      ]
     },
     "execution_count": 23,
     "metadata": {},
     "output_type": "execute_result"
    }
   ],
   "source": [
    "Xtrain['num_messages']"
   ]
  },
  {
   "cell_type": "code",
   "execution_count": null,
   "id": "angry-instrument",
   "metadata": {},
   "outputs": [],
   "source": []
  },
  {
   "cell_type": "code",
   "execution_count": 24,
   "id": "norman-dollar",
   "metadata": {},
   "outputs": [
    {
     "name": "stdout",
     "output_type": "stream",
     "text": [
      "Warning: Maximum number of iterations has been exceeded.\n",
      "         Current function value: 0.297953\n",
      "         Iterations: 35\n"
     ]
    },
    {
     "name": "stderr",
     "output_type": "stream",
     "text": [
      "/Library/Frameworks/Python.framework/Versions/3.9/lib/python3.9/site-packages/statsmodels/base/model.py:566: ConvergenceWarning: Maximum Likelihood optimization failed to converge. Check mle_retvals\n",
      "  warnings.warn(\"Maximum Likelihood optimization failed to \"\n"
     ]
    }
   ],
   "source": [
    "# importing libraries\n",
    "import statsmodels.api as sm\n",
    "\n",
    "# building the model and fitting the data\n",
    "log_reg = sm.Logit(np.asarray(Ytrain).astype(float), Xtrain.astype(float)).fit()\n"
   ]
  },
  {
   "cell_type": "code",
   "execution_count": 25,
   "id": "verified-zealand",
   "metadata": {},
   "outputs": [
    {
     "data": {
      "text/html": [
       "<table class=\"simpletable\">\n",
       "<caption>Logit Regression Results</caption>\n",
       "<tr>\n",
       "  <th>Dep. Variable:</th>           <td>y</td>        <th>  No. Observations:  </th>  <td>   821</td>  \n",
       "</tr>\n",
       "<tr>\n",
       "  <th>Model:</th>                 <td>Logit</td>      <th>  Df Residuals:      </th>  <td>   814</td>  \n",
       "</tr>\n",
       "<tr>\n",
       "  <th>Method:</th>                 <td>MLE</td>       <th>  Df Model:          </th>  <td>     6</td>  \n",
       "</tr>\n",
       "<tr>\n",
       "  <th>Date:</th>            <td>Thu, 24 Jun 2021</td> <th>  Pseudo R-squ.:     </th>  <td>0.1252</td>  \n",
       "</tr>\n",
       "<tr>\n",
       "  <th>Time:</th>                <td>12:11:58</td>     <th>  Log-Likelihood:    </th> <td> -244.62</td> \n",
       "</tr>\n",
       "<tr>\n",
       "  <th>converged:</th>             <td>False</td>      <th>  LL-Null:           </th> <td> -279.63</td> \n",
       "</tr>\n",
       "<tr>\n",
       "  <th>Covariance Type:</th>     <td>nonrobust</td>    <th>  LLR p-value:       </th> <td>4.063e-13</td>\n",
       "</tr>\n",
       "</table>\n",
       "<table class=\"simpletable\">\n",
       "<tr>\n",
       "            <td></td>               <th>coef</th>     <th>std err</th>      <th>z</th>      <th>P>|z|</th>  <th>[0.025</th>    <th>0.975]</th>  \n",
       "</tr>\n",
       "<tr>\n",
       "  <th>determinism</th>           <td>  -17.3767</td> <td>    4.509</td> <td>   -3.854</td> <td> 0.000</td> <td>  -26.213</td> <td>   -8.540</td>\n",
       "</tr>\n",
       "<tr>\n",
       "  <th>recurrence_rate</th>       <td>   26.5851</td> <td>    7.582</td> <td>    3.506</td> <td> 0.000</td> <td>   11.724</td> <td>   41.446</td>\n",
       "</tr>\n",
       "<tr>\n",
       "  <th>entropy</th>               <td>    0.7676</td> <td>    1.442</td> <td>    0.532</td> <td> 0.595</td> <td>   -2.059</td> <td>    3.594</td>\n",
       "</tr>\n",
       "<tr>\n",
       "  <th>longest_diagonal_line</th> <td>   -0.0013</td> <td> 7.82e+04</td> <td>-1.69e-08</td> <td> 1.000</td> <td>-1.53e+05</td> <td> 1.53e+05</td>\n",
       "</tr>\n",
       "<tr>\n",
       "  <th>laminarity</th>            <td>    2.2270</td> <td>    2.374</td> <td>    0.938</td> <td> 0.348</td> <td>   -2.426</td> <td>    6.880</td>\n",
       "</tr>\n",
       "<tr>\n",
       "  <th>divergence</th>            <td>  -29.1490</td> <td>    7.583</td> <td>   -3.844</td> <td> 0.000</td> <td>  -44.011</td> <td>  -14.287</td>\n",
       "</tr>\n",
       "<tr>\n",
       "  <th>num_messages</th>          <td>   -0.0015</td> <td> 7.82e+04</td> <td>-1.96e-08</td> <td> 1.000</td> <td>-1.53e+05</td> <td> 1.53e+05</td>\n",
       "</tr>\n",
       "</table>"
      ],
      "text/plain": [
       "<class 'statsmodels.iolib.summary.Summary'>\n",
       "\"\"\"\n",
       "                           Logit Regression Results                           \n",
       "==============================================================================\n",
       "Dep. Variable:                      y   No. Observations:                  821\n",
       "Model:                          Logit   Df Residuals:                      814\n",
       "Method:                           MLE   Df Model:                            6\n",
       "Date:                Thu, 24 Jun 2021   Pseudo R-squ.:                  0.1252\n",
       "Time:                        12:11:58   Log-Likelihood:                -244.62\n",
       "converged:                      False   LL-Null:                       -279.63\n",
       "Covariance Type:            nonrobust   LLR p-value:                 4.063e-13\n",
       "=========================================================================================\n",
       "                            coef    std err          z      P>|z|      [0.025      0.975]\n",
       "-----------------------------------------------------------------------------------------\n",
       "determinism             -17.3767      4.509     -3.854      0.000     -26.213      -8.540\n",
       "recurrence_rate          26.5851      7.582      3.506      0.000      11.724      41.446\n",
       "entropy                   0.7676      1.442      0.532      0.595      -2.059       3.594\n",
       "longest_diagonal_line    -0.0013   7.82e+04  -1.69e-08      1.000   -1.53e+05    1.53e+05\n",
       "laminarity                2.2270      2.374      0.938      0.348      -2.426       6.880\n",
       "divergence              -29.1490      7.583     -3.844      0.000     -44.011     -14.287\n",
       "num_messages             -0.0015   7.82e+04  -1.96e-08      1.000   -1.53e+05    1.53e+05\n",
       "=========================================================================================\n",
       "\"\"\""
      ]
     },
     "execution_count": 25,
     "metadata": {},
     "output_type": "execute_result"
    }
   ],
   "source": [
    "log_reg.summary()"
   ]
  },
  {
   "cell_type": "code",
   "execution_count": null,
   "id": "refined-bubble",
   "metadata": {},
   "outputs": [],
   "source": []
  },
  {
   "cell_type": "code",
   "execution_count": 26,
   "id": "disabled-lithuania",
   "metadata": {},
   "outputs": [],
   "source": [
    "Xtrain = pd.DataFrame(x)\n",
    "#Xtrain = Xtrain.transpose()\n",
    "Xtrain.columns = [\"determinism\", \"recurrence_rate\", \"entropy\", \"longest_diagonal_line\", \"laminarity\",\n",
    "                 \"divergence\", \"num_messages\"]\n",
    "\n",
    "Ytrain = data.groupby(['team_id'])['female_maj'].unique()"
   ]
  },
  {
   "cell_type": "code",
   "execution_count": 27,
   "id": "prime-footage",
   "metadata": {},
   "outputs": [
    {
     "name": "stdout",
     "output_type": "stream",
     "text": [
      "Warning: Maximum number of iterations has been exceeded.\n",
      "         Current function value: 0.541985\n",
      "         Iterations: 35\n"
     ]
    },
    {
     "name": "stderr",
     "output_type": "stream",
     "text": [
      "/Library/Frameworks/Python.framework/Versions/3.9/lib/python3.9/site-packages/statsmodels/base/model.py:566: ConvergenceWarning: Maximum Likelihood optimization failed to converge. Check mle_retvals\n",
      "  warnings.warn(\"Maximum Likelihood optimization failed to \"\n"
     ]
    }
   ],
   "source": [
    "# importing libraries\n",
    "import statsmodels.api as sm\n",
    "\n",
    "# building the model and fitting the data\n",
    "log_reg = sm.Logit(np.asarray(Ytrain).astype(float), Xtrain.astype(float)).fit()\n"
   ]
  },
  {
   "cell_type": "code",
   "execution_count": 28,
   "id": "threatened-resistance",
   "metadata": {},
   "outputs": [
    {
     "data": {
      "text/html": [
       "<table class=\"simpletable\">\n",
       "<caption>Logit Regression Results</caption>\n",
       "<tr>\n",
       "  <th>Dep. Variable:</th>           <td>y</td>        <th>  No. Observations:  </th>  <td>   821</td> \n",
       "</tr>\n",
       "<tr>\n",
       "  <th>Model:</th>                 <td>Logit</td>      <th>  Df Residuals:      </th>  <td>   814</td> \n",
       "</tr>\n",
       "<tr>\n",
       "  <th>Method:</th>                 <td>MLE</td>       <th>  Df Model:          </th>  <td>     6</td> \n",
       "</tr>\n",
       "<tr>\n",
       "  <th>Date:</th>            <td>Thu, 24 Jun 2021</td> <th>  Pseudo R-squ.:     </th>  <td>0.01640</td>\n",
       "</tr>\n",
       "<tr>\n",
       "  <th>Time:</th>                <td>12:12:25</td>     <th>  Log-Likelihood:    </th> <td> -444.97</td>\n",
       "</tr>\n",
       "<tr>\n",
       "  <th>converged:</th>             <td>False</td>      <th>  LL-Null:           </th> <td> -452.39</td>\n",
       "</tr>\n",
       "<tr>\n",
       "  <th>Covariance Type:</th>     <td>nonrobust</td>    <th>  LLR p-value:       </th>  <td>0.02152</td>\n",
       "</tr>\n",
       "</table>\n",
       "<table class=\"simpletable\">\n",
       "<tr>\n",
       "            <td></td>               <th>coef</th>     <th>std err</th>      <th>z</th>      <th>P>|z|</th>  <th>[0.025</th>    <th>0.975]</th>  \n",
       "</tr>\n",
       "<tr>\n",
       "  <th>determinism</th>           <td>   -0.6583</td> <td>    2.300</td> <td>   -0.286</td> <td> 0.775</td> <td>   -5.167</td> <td>    3.850</td>\n",
       "</tr>\n",
       "<tr>\n",
       "  <th>recurrence_rate</th>       <td>   -1.7834</td> <td>    5.612</td> <td>   -0.318</td> <td> 0.751</td> <td>  -12.783</td> <td>    9.216</td>\n",
       "</tr>\n",
       "<tr>\n",
       "  <th>entropy</th>               <td>    1.8962</td> <td>    1.184</td> <td>    1.602</td> <td> 0.109</td> <td>   -0.423</td> <td>    4.216</td>\n",
       "</tr>\n",
       "<tr>\n",
       "  <th>longest_diagonal_line</th> <td>   -0.0052</td> <td> 3.36e+04</td> <td>-1.53e-07</td> <td> 1.000</td> <td>-6.58e+04</td> <td> 6.58e+04</td>\n",
       "</tr>\n",
       "<tr>\n",
       "  <th>laminarity</th>            <td>    0.5550</td> <td>    1.632</td> <td>    0.340</td> <td> 0.734</td> <td>   -2.644</td> <td>    3.754</td>\n",
       "</tr>\n",
       "<tr>\n",
       "  <th>divergence</th>            <td>    3.0756</td> <td>    5.612</td> <td>    0.548</td> <td> 0.584</td> <td>   -7.923</td> <td>   14.074</td>\n",
       "</tr>\n",
       "<tr>\n",
       "  <th>num_messages</th>          <td>   -0.0049</td> <td> 3.36e+04</td> <td>-1.47e-07</td> <td> 1.000</td> <td>-6.58e+04</td> <td> 6.58e+04</td>\n",
       "</tr>\n",
       "</table>"
      ],
      "text/plain": [
       "<class 'statsmodels.iolib.summary.Summary'>\n",
       "\"\"\"\n",
       "                           Logit Regression Results                           \n",
       "==============================================================================\n",
       "Dep. Variable:                      y   No. Observations:                  821\n",
       "Model:                          Logit   Df Residuals:                      814\n",
       "Method:                           MLE   Df Model:                            6\n",
       "Date:                Thu, 24 Jun 2021   Pseudo R-squ.:                 0.01640\n",
       "Time:                        12:12:25   Log-Likelihood:                -444.97\n",
       "converged:                      False   LL-Null:                       -452.39\n",
       "Covariance Type:            nonrobust   LLR p-value:                   0.02152\n",
       "=========================================================================================\n",
       "                            coef    std err          z      P>|z|      [0.025      0.975]\n",
       "-----------------------------------------------------------------------------------------\n",
       "determinism              -0.6583      2.300     -0.286      0.775      -5.167       3.850\n",
       "recurrence_rate          -1.7834      5.612     -0.318      0.751     -12.783       9.216\n",
       "entropy                   1.8962      1.184      1.602      0.109      -0.423       4.216\n",
       "longest_diagonal_line    -0.0052   3.36e+04  -1.53e-07      1.000   -6.58e+04    6.58e+04\n",
       "laminarity                0.5550      1.632      0.340      0.734      -2.644       3.754\n",
       "divergence                3.0756      5.612      0.548      0.584      -7.923      14.074\n",
       "num_messages             -0.0049   3.36e+04  -1.47e-07      1.000   -6.58e+04    6.58e+04\n",
       "=========================================================================================\n",
       "\"\"\""
      ]
     },
     "execution_count": 28,
     "metadata": {},
     "output_type": "execute_result"
    }
   ],
   "source": [
    "log_reg.summary()"
   ]
  },
  {
   "cell_type": "code",
   "execution_count": null,
   "id": "square-wales",
   "metadata": {},
   "outputs": [],
   "source": []
  }
 ],
 "metadata": {
  "kernelspec": {
   "display_name": "Python 3",
   "language": "python",
   "name": "python3"
  },
  "language_info": {
   "codemirror_mode": {
    "name": "ipython",
    "version": 3
   },
   "file_extension": ".py",
   "mimetype": "text/x-python",
   "name": "python",
   "nbconvert_exporter": "python",
   "pygments_lexer": "ipython3",
   "version": "3.9.1"
  }
 },
 "nbformat": 4,
 "nbformat_minor": 5
}
