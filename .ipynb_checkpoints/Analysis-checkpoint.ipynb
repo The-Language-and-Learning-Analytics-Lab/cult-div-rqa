{
 "cells": [
  {
   "cell_type": "code",
   "execution_count": 1,
   "id": "strategic-estate",
   "metadata": {},
   "outputs": [],
   "source": [
    "import pyrqa\n",
    "import pandas as pd\n",
    "import numpy as np"
   ]
  },
  {
   "cell_type": "code",
   "execution_count": 2,
   "id": "described-school",
   "metadata": {},
   "outputs": [],
   "source": [
    "data = pd.read_csv('codes_scores_gender_merged.csv')"
   ]
  },
  {
   "cell_type": "code",
   "execution_count": 4,
   "id": "ceramic-infrared",
   "metadata": {},
   "outputs": [
    {
     "data": {
      "text/plain": [
       "821"
      ]
     },
     "execution_count": 4,
     "metadata": {},
     "output_type": "execute_result"
    }
   ],
   "source": [
    "len(data.team_id.unique())"
   ]
  },
  {
   "cell_type": "code",
   "execution_count": 33,
   "id": "decreased-saturn",
   "metadata": {},
   "outputs": [],
   "source": [
    "a = data['Primary code '].unique()"
   ]
  },
  {
   "cell_type": "code",
   "execution_count": 34,
   "id": "returning-nation",
   "metadata": {},
   "outputs": [
    {
     "data": {
      "text/plain": [
       "array(['SMC', 'CM', 'CE', 'SSI', 'CRF', 'SESU', 'SN', 'CP', 'EM', 'TD'],\n",
       "      dtype=object)"
      ]
     },
     "execution_count": 34,
     "metadata": {},
     "output_type": "execute_result"
    }
   ],
   "source": [
    "a"
   ]
  },
  {
   "cell_type": "code",
   "execution_count": 35,
   "id": "entitled-opinion",
   "metadata": {},
   "outputs": [
    {
     "data": {
      "text/plain": [
       "LabelEncoder()"
      ]
     },
     "execution_count": 35,
     "metadata": {},
     "output_type": "execute_result"
    }
   ],
   "source": [
    "from numpy import asarray\n",
    "from sklearn.preprocessing import LabelEncoder\n",
    "# define data\n",
    "a = data['Primary code ']\n",
    "# define one hot encoding\n",
    "encoder = LabelEncoder()\n",
    "# transform data\n",
    "encoder.fit(a)"
   ]
  },
  {
   "cell_type": "code",
   "execution_count": 36,
   "id": "latter-riding",
   "metadata": {},
   "outputs": [],
   "source": [
    "codes_list = data.groupby(['team_id'])['Primary code '].apply(list)"
   ]
  },
  {
   "cell_type": "code",
   "execution_count": 37,
   "id": "advised-cardiff",
   "metadata": {},
   "outputs": [],
   "source": [
    "from pyrqa.analysis_type import Cross\n",
    "from pyrqa.time_series import TimeSeries\n",
    "from pyrqa.settings import Settings\n",
    "from pyrqa.analysis_type import Classic\n",
    "from pyrqa.neighbourhood import FixedRadius\n",
    "from pyrqa.metric import EuclideanMetric\n",
    "from pyrqa.computation import RQAComputation\n",
    "\n",
    "x = []\n",
    "\n",
    "\n",
    "for i in codes_list:\n",
    "    data_points_x = encoder.transform(i)\n",
    "    time_series_x = TimeSeries(data_points_x,\n",
    "                               embedding_dimension=1,\n",
    "                               time_delay=0)\n",
    "    time_series = (time_series_x,\n",
    "                   time_series_x)\n",
    "    settings = Settings(time_series,\n",
    "                        analysis_type=Cross,\n",
    "                        neighbourhood=FixedRadius(0.5),\n",
    "                        similarity_measure=EuclideanMetric,\n",
    "                        theiler_corrector=0)\n",
    "    computation = RQAComputation.create(settings,\n",
    "                                        verbose=False)\n",
    "    result = computation.run()\n",
    "    result.min_diagonal_line_length = 2\n",
    "    result.min_vertical_line_length = 2\n",
    "    result.min_white_vertical_line_length = 2\n",
    "    #print(result)\n",
    "    x.append([result.determinism, result.recurrence_rate, result.entropy_diagonal_lines,\n",
    "             result.longest_diagonal_line, result.laminarity,\n",
    "             result.divergence, len(data_points_x)])\n",
    "    "
   ]
  },
  {
   "cell_type": "code",
   "execution_count": 29,
   "id": "administrative-terminal",
   "metadata": {},
   "outputs": [],
   "source": [
    "from pyrqa.computation import RPComputation\n",
    "from pyrqa.image_generator import ImageGenerator\n",
    "computation = RPComputation.create(settings)\n",
    "result = computation.run()\n",
    "ImageGenerator.save_recurrence_plot(result.recurrence_matrix_reverse,\n",
    "                                    'recurrence_plot.png')"
   ]
  },
  {
   "cell_type": "code",
   "execution_count": 22,
   "id": "rough-productivity",
   "metadata": {},
   "outputs": [],
   "source": [
    "import numpy as np\n",
    "\n",
    "Xtrain = pd.DataFrame(x)\n",
    "#Xtrain = Xtrain.transpose()\n",
    "Xtrain.columns = [\"determinism\", \"recurrence_rate\", \"entropy\", \"longest_diagonal_line\", \"laminarity\",\n",
    "                 \"divergence\", \"num_messages\"]\n",
    "\n",
    "Ytrain = data.groupby(['team_id'])['high_performance'].unique()"
   ]
  },
  {
   "cell_type": "code",
   "execution_count": 23,
   "id": "faced-commercial",
   "metadata": {},
   "outputs": [
    {
     "data": {
      "text/plain": [
       "0      27\n",
       "1      10\n",
       "2      25\n",
       "3      44\n",
       "4      45\n",
       "       ..\n",
       "816    84\n",
       "817    21\n",
       "818    64\n",
       "819    10\n",
       "820    37\n",
       "Name: num_messages, Length: 821, dtype: int64"
      ]
     },
     "execution_count": 23,
     "metadata": {},
     "output_type": "execute_result"
    }
   ],
   "source": [
    "Xtrain['num_messages']"
   ]
  },
  {
   "cell_type": "code",
   "execution_count": null,
   "id": "angry-instrument",
   "metadata": {},
   "outputs": [],
   "source": []
  },
  {
   "cell_type": "code",
   "execution_count": 24,
   "id": "norman-dollar",
   "metadata": {},
   "outputs": [
    {
     "name": "stdout",
     "output_type": "stream",
     "text": [
      "Warning: Maximum number of iterations has been exceeded.\n",
      "         Current function value: 0.297953\n",
      "         Iterations: 35\n"
     ]
    },
    {
     "name": "stderr",
     "output_type": "stream",
     "text": [
      "/Library/Frameworks/Python.framework/Versions/3.9/lib/python3.9/site-packages/statsmodels/base/model.py:566: ConvergenceWarning: Maximum Likelihood optimization failed to converge. Check mle_retvals\n",
      "  warnings.warn(\"Maximum Likelihood optimization failed to \"\n"
     ]
    }
   ],
   "source": [
    "# importing libraries\n",
    "import statsmodels.api as sm\n",
    "\n",
    "# building the model and fitting the data\n",
    "log_reg = sm.Logit(np.asarray(Ytrain).astype(float), Xtrain.astype(float)).fit()\n"
   ]
  },
  {
   "cell_type": "code",
   "execution_count": 25,
   "id": "verified-zealand",
   "metadata": {},
   "outputs": [
    {
     "data": {
      "text/html": [
       "<table class=\"simpletable\">\n",
       "<caption>Logit Regression Results</caption>\n",
       "<tr>\n",
       "  <th>Dep. Variable:</th>           <td>y</td>        <th>  No. Observations:  </th>  <td>   821</td>  \n",
       "</tr>\n",
       "<tr>\n",
       "  <th>Model:</th>                 <td>Logit</td>      <th>  Df Residuals:      </th>  <td>   814</td>  \n",
       "</tr>\n",
       "<tr>\n",
       "  <th>Method:</th>                 <td>MLE</td>       <th>  Df Model:          </th>  <td>     6</td>  \n",
       "</tr>\n",
       "<tr>\n",
       "  <th>Date:</th>            <td>Thu, 24 Jun 2021</td> <th>  Pseudo R-squ.:     </th>  <td>0.1252</td>  \n",
       "</tr>\n",
       "<tr>\n",
       "  <th>Time:</th>                <td>12:11:58</td>     <th>  Log-Likelihood:    </th> <td> -244.62</td> \n",
       "</tr>\n",
       "<tr>\n",
       "  <th>converged:</th>             <td>False</td>      <th>  LL-Null:           </th> <td> -279.63</td> \n",
       "</tr>\n",
       "<tr>\n",
       "  <th>Covariance Type:</th>     <td>nonrobust</td>    <th>  LLR p-value:       </th> <td>4.063e-13</td>\n",
       "</tr>\n",
       "</table>\n",
       "<table class=\"simpletable\">\n",
       "<tr>\n",
       "            <td></td>               <th>coef</th>     <th>std err</th>      <th>z</th>      <th>P>|z|</th>  <th>[0.025</th>    <th>0.975]</th>  \n",
       "</tr>\n",
       "<tr>\n",
       "  <th>determinism</th>           <td>  -17.3767</td> <td>    4.509</td> <td>   -3.854</td> <td> 0.000</td> <td>  -26.213</td> <td>   -8.540</td>\n",
       "</tr>\n",
       "<tr>\n",
       "  <th>recurrence_rate</th>       <td>   26.5851</td> <td>    7.582</td> <td>    3.506</td> <td> 0.000</td> <td>   11.724</td> <td>   41.446</td>\n",
       "</tr>\n",
       "<tr>\n",
       "  <th>entropy</th>               <td>    0.7676</td> <td>    1.442</td> <td>    0.532</td> <td> 0.595</td> <td>   -2.059</td> <td>    3.594</td>\n",
       "</tr>\n",
       "<tr>\n",
       "  <th>longest_diagonal_line</th> <td>   -0.0013</td> <td> 7.82e+04</td> <td>-1.69e-08</td> <td> 1.000</td> <td>-1.53e+05</td> <td> 1.53e+05</td>\n",
       "</tr>\n",
       "<tr>\n",
       "  <th>laminarity</th>            <td>    2.2270</td> <td>    2.374</td> <td>    0.938</td> <td> 0.348</td> <td>   -2.426</td> <td>    6.880</td>\n",
       "</tr>\n",
       "<tr>\n",
       "  <th>divergence</th>            <td>  -29.1490</td> <td>    7.583</td> <td>   -3.844</td> <td> 0.000</td> <td>  -44.011</td> <td>  -14.287</td>\n",
       "</tr>\n",
       "<tr>\n",
       "  <th>num_messages</th>          <td>   -0.0015</td> <td> 7.82e+04</td> <td>-1.96e-08</td> <td> 1.000</td> <td>-1.53e+05</td> <td> 1.53e+05</td>\n",
       "</tr>\n",
       "</table>"
      ],
      "text/plain": [
       "<class 'statsmodels.iolib.summary.Summary'>\n",
       "\"\"\"\n",
       "                           Logit Regression Results                           \n",
       "==============================================================================\n",
       "Dep. Variable:                      y   No. Observations:                  821\n",
       "Model:                          Logit   Df Residuals:                      814\n",
       "Method:                           MLE   Df Model:                            6\n",
       "Date:                Thu, 24 Jun 2021   Pseudo R-squ.:                  0.1252\n",
       "Time:                        12:11:58   Log-Likelihood:                -244.62\n",
       "converged:                      False   LL-Null:                       -279.63\n",
       "Covariance Type:            nonrobust   LLR p-value:                 4.063e-13\n",
       "=========================================================================================\n",
       "                            coef    std err          z      P>|z|      [0.025      0.975]\n",
       "-----------------------------------------------------------------------------------------\n",
       "determinism             -17.3767      4.509     -3.854      0.000     -26.213      -8.540\n",
       "recurrence_rate          26.5851      7.582      3.506      0.000      11.724      41.446\n",
       "entropy                   0.7676      1.442      0.532      0.595      -2.059       3.594\n",
       "longest_diagonal_line    -0.0013   7.82e+04  -1.69e-08      1.000   -1.53e+05    1.53e+05\n",
       "laminarity                2.2270      2.374      0.938      0.348      -2.426       6.880\n",
       "divergence              -29.1490      7.583     -3.844      0.000     -44.011     -14.287\n",
       "num_messages             -0.0015   7.82e+04  -1.96e-08      1.000   -1.53e+05    1.53e+05\n",
       "=========================================================================================\n",
       "\"\"\""
      ]
     },
     "execution_count": 25,
     "metadata": {},
     "output_type": "execute_result"
    }
   ],
   "source": [
    "log_reg.summary()"
   ]
  },
  {
   "cell_type": "code",
   "execution_count": 26,
   "id": "disabled-lithuania",
   "metadata": {},
   "outputs": [],
   "source": [
    "Xtrain = pd.DataFrame(x)\n",
    "#Xtrain = Xtrain.transpose()\n",
    "Xtrain.columns = [\"determinism\", \"recurrence_rate\", \"entropy\", \"longest_diagonal_line\", \"laminarity\",\n",
    "                 \"divergence\", \"num_messages\"]\n",
    "\n",
    "Ytrain = data.groupby(['team_id'])['female_maj'].unique()"
   ]
  },
  {
   "cell_type": "code",
   "execution_count": 27,
   "id": "prime-footage",
   "metadata": {},
   "outputs": [
    {
     "name": "stdout",
     "output_type": "stream",
     "text": [
      "Warning: Maximum number of iterations has been exceeded.\n",
      "         Current function value: 0.541985\n",
      "         Iterations: 35\n"
     ]
    },
    {
     "name": "stderr",
     "output_type": "stream",
     "text": [
      "/Library/Frameworks/Python.framework/Versions/3.9/lib/python3.9/site-packages/statsmodels/base/model.py:566: ConvergenceWarning: Maximum Likelihood optimization failed to converge. Check mle_retvals\n",
      "  warnings.warn(\"Maximum Likelihood optimization failed to \"\n"
     ]
    }
   ],
   "source": [
    "# importing libraries\n",
    "import statsmodels.api as sm\n",
    "\n",
    "# building the model and fitting the data\n",
    "log_reg = sm.Logit(np.asarray(Ytrain).astype(float), Xtrain.astype(float)).fit()\n"
   ]
  },
  {
   "cell_type": "code",
   "execution_count": 28,
   "id": "threatened-resistance",
   "metadata": {},
   "outputs": [
    {
     "data": {
      "text/html": [
       "<table class=\"simpletable\">\n",
       "<caption>Logit Regression Results</caption>\n",
       "<tr>\n",
       "  <th>Dep. Variable:</th>           <td>y</td>        <th>  No. Observations:  </th>  <td>   821</td> \n",
       "</tr>\n",
       "<tr>\n",
       "  <th>Model:</th>                 <td>Logit</td>      <th>  Df Residuals:      </th>  <td>   814</td> \n",
       "</tr>\n",
       "<tr>\n",
       "  <th>Method:</th>                 <td>MLE</td>       <th>  Df Model:          </th>  <td>     6</td> \n",
       "</tr>\n",
       "<tr>\n",
       "  <th>Date:</th>            <td>Thu, 24 Jun 2021</td> <th>  Pseudo R-squ.:     </th>  <td>0.01640</td>\n",
       "</tr>\n",
       "<tr>\n",
       "  <th>Time:</th>                <td>12:12:25</td>     <th>  Log-Likelihood:    </th> <td> -444.97</td>\n",
       "</tr>\n",
       "<tr>\n",
       "  <th>converged:</th>             <td>False</td>      <th>  LL-Null:           </th> <td> -452.39</td>\n",
       "</tr>\n",
       "<tr>\n",
       "  <th>Covariance Type:</th>     <td>nonrobust</td>    <th>  LLR p-value:       </th>  <td>0.02152</td>\n",
       "</tr>\n",
       "</table>\n",
       "<table class=\"simpletable\">\n",
       "<tr>\n",
       "            <td></td>               <th>coef</th>     <th>std err</th>      <th>z</th>      <th>P>|z|</th>  <th>[0.025</th>    <th>0.975]</th>  \n",
       "</tr>\n",
       "<tr>\n",
       "  <th>determinism</th>           <td>   -0.6583</td> <td>    2.300</td> <td>   -0.286</td> <td> 0.775</td> <td>   -5.167</td> <td>    3.850</td>\n",
       "</tr>\n",
       "<tr>\n",
       "  <th>recurrence_rate</th>       <td>   -1.7834</td> <td>    5.612</td> <td>   -0.318</td> <td> 0.751</td> <td>  -12.783</td> <td>    9.216</td>\n",
       "</tr>\n",
       "<tr>\n",
       "  <th>entropy</th>               <td>    1.8962</td> <td>    1.184</td> <td>    1.602</td> <td> 0.109</td> <td>   -0.423</td> <td>    4.216</td>\n",
       "</tr>\n",
       "<tr>\n",
       "  <th>longest_diagonal_line</th> <td>   -0.0052</td> <td> 3.36e+04</td> <td>-1.53e-07</td> <td> 1.000</td> <td>-6.58e+04</td> <td> 6.58e+04</td>\n",
       "</tr>\n",
       "<tr>\n",
       "  <th>laminarity</th>            <td>    0.5550</td> <td>    1.632</td> <td>    0.340</td> <td> 0.734</td> <td>   -2.644</td> <td>    3.754</td>\n",
       "</tr>\n",
       "<tr>\n",
       "  <th>divergence</th>            <td>    3.0756</td> <td>    5.612</td> <td>    0.548</td> <td> 0.584</td> <td>   -7.923</td> <td>   14.074</td>\n",
       "</tr>\n",
       "<tr>\n",
       "  <th>num_messages</th>          <td>   -0.0049</td> <td> 3.36e+04</td> <td>-1.47e-07</td> <td> 1.000</td> <td>-6.58e+04</td> <td> 6.58e+04</td>\n",
       "</tr>\n",
       "</table>"
      ],
      "text/plain": [
       "<class 'statsmodels.iolib.summary.Summary'>\n",
       "\"\"\"\n",
       "                           Logit Regression Results                           \n",
       "==============================================================================\n",
       "Dep. Variable:                      y   No. Observations:                  821\n",
       "Model:                          Logit   Df Residuals:                      814\n",
       "Method:                           MLE   Df Model:                            6\n",
       "Date:                Thu, 24 Jun 2021   Pseudo R-squ.:                 0.01640\n",
       "Time:                        12:12:25   Log-Likelihood:                -444.97\n",
       "converged:                      False   LL-Null:                       -452.39\n",
       "Covariance Type:            nonrobust   LLR p-value:                   0.02152\n",
       "=========================================================================================\n",
       "                            coef    std err          z      P>|z|      [0.025      0.975]\n",
       "-----------------------------------------------------------------------------------------\n",
       "determinism              -0.6583      2.300     -0.286      0.775      -5.167       3.850\n",
       "recurrence_rate          -1.7834      5.612     -0.318      0.751     -12.783       9.216\n",
       "entropy                   1.8962      1.184      1.602      0.109      -0.423       4.216\n",
       "longest_diagonal_line    -0.0052   3.36e+04  -1.53e-07      1.000   -6.58e+04    6.58e+04\n",
       "laminarity                0.5550      1.632      0.340      0.734      -2.644       3.754\n",
       "divergence                3.0756      5.612      0.548      0.584      -7.923      14.074\n",
       "num_messages             -0.0049   3.36e+04  -1.47e-07      1.000   -6.58e+04    6.58e+04\n",
       "=========================================================================================\n",
       "\"\"\""
      ]
     },
     "execution_count": 28,
     "metadata": {},
     "output_type": "execute_result"
    }
   ],
   "source": [
    "log_reg.summary()"
   ]
  },
  {
   "cell_type": "code",
   "execution_count": 43,
   "id": "square-wales",
   "metadata": {},
   "outputs": [
    {
     "ename": "ValueError",
     "evalue": "zero-size array to reduction operation maximum which has no identity",
     "output_type": "error",
     "traceback": [
      "\u001b[0;31m---------------------------------------------------------------------------\u001b[0m",
      "\u001b[0;31mValueError\u001b[0m                                Traceback (most recent call last)",
      "\u001b[0;32m<ipython-input-43-7935cec070c9>\u001b[0m in \u001b[0;36m<module>\u001b[0;34m\u001b[0m\n\u001b[1;32m     11\u001b[0m \u001b[0;34m\u001b[0m\u001b[0m\n\u001b[1;32m     12\u001b[0m \u001b[0mYtrain\u001b[0m \u001b[0;34m=\u001b[0m \u001b[0mdata\u001b[0m\u001b[0;34m.\u001b[0m\u001b[0mgroupby\u001b[0m\u001b[0;34m(\u001b[0m\u001b[0;34m[\u001b[0m\u001b[0;34m'team_id'\u001b[0m\u001b[0;34m]\u001b[0m\u001b[0;34m)\u001b[0m\u001b[0;34m[\u001b[0m\u001b[0;34m'high_performance'\u001b[0m\u001b[0;34m]\u001b[0m\u001b[0;34m.\u001b[0m\u001b[0munique\u001b[0m\u001b[0;34m(\u001b[0m\u001b[0;34m)\u001b[0m\u001b[0;34m\u001b[0m\u001b[0;34m\u001b[0m\u001b[0m\n\u001b[0;32m---> 13\u001b[0;31m \u001b[0mres1\u001b[0m \u001b[0;34m=\u001b[0m \u001b[0msmf\u001b[0m\u001b[0;34m.\u001b[0m\u001b[0mlogit\u001b[0m\u001b[0;34m(\u001b[0m\u001b[0mformula\u001b[0m\u001b[0;34m=\u001b[0m\u001b[0;34m'performance ~ determinism + recurrence_rate + entropy + longest_diagonal_line + laminarity + divergence + num_messages + female_maj + determinism:female_maj + recurrence_rate:female_maj + entropy:female_maj + longest_diagonal_line:female_maj + laminarity:female_maj + divergence:female_maj + num_messages:female_maj'\u001b[0m\u001b[0;34m,\u001b[0m \u001b[0mdata\u001b[0m\u001b[0;34m=\u001b[0m\u001b[0mXtrain\u001b[0m\u001b[0;34m)\u001b[0m\u001b[0;34m.\u001b[0m\u001b[0mfit\u001b[0m\u001b[0;34m(\u001b[0m\u001b[0;34m)\u001b[0m\u001b[0;34m\u001b[0m\u001b[0;34m\u001b[0m\u001b[0m\n\u001b[0m",
      "\u001b[0;32m/Library/Frameworks/Python.framework/Versions/3.9/lib/python3.9/site-packages/statsmodels/base/model.py\u001b[0m in \u001b[0;36mfrom_formula\u001b[0;34m(cls, formula, data, subset, drop_cols, *args, **kwargs)\u001b[0m\n\u001b[1;32m    193\u001b[0m                        \u001b[0;34m'formula'\u001b[0m\u001b[0;34m:\u001b[0m \u001b[0mformula\u001b[0m\u001b[0;34m,\u001b[0m  \u001b[0;31m# attach formula for unpckling\u001b[0m\u001b[0;34m\u001b[0m\u001b[0;34m\u001b[0m\u001b[0m\n\u001b[1;32m    194\u001b[0m                        'design_info': design_info})\n\u001b[0;32m--> 195\u001b[0;31m         \u001b[0mmod\u001b[0m \u001b[0;34m=\u001b[0m \u001b[0mcls\u001b[0m\u001b[0;34m(\u001b[0m\u001b[0mendog\u001b[0m\u001b[0;34m,\u001b[0m \u001b[0mexog\u001b[0m\u001b[0;34m,\u001b[0m \u001b[0;34m*\u001b[0m\u001b[0margs\u001b[0m\u001b[0;34m,\u001b[0m \u001b[0;34m**\u001b[0m\u001b[0mkwargs\u001b[0m\u001b[0;34m)\u001b[0m\u001b[0;34m\u001b[0m\u001b[0;34m\u001b[0m\u001b[0m\n\u001b[0m\u001b[1;32m    196\u001b[0m         \u001b[0mmod\u001b[0m\u001b[0;34m.\u001b[0m\u001b[0mformula\u001b[0m \u001b[0;34m=\u001b[0m \u001b[0mformula\u001b[0m\u001b[0;34m\u001b[0m\u001b[0;34m\u001b[0m\u001b[0m\n\u001b[1;32m    197\u001b[0m \u001b[0;34m\u001b[0m\u001b[0m\n",
      "\u001b[0;32m/Library/Frameworks/Python.framework/Versions/3.9/lib/python3.9/site-packages/statsmodels/discrete/discrete_model.py\u001b[0m in \u001b[0;36m__init__\u001b[0;34m(self, endog, exog, check_rank, **kwargs)\u001b[0m\n\u001b[1;32m    455\u001b[0m \u001b[0;34m\u001b[0m\u001b[0m\n\u001b[1;32m    456\u001b[0m     \u001b[0;32mdef\u001b[0m \u001b[0m__init__\u001b[0m\u001b[0;34m(\u001b[0m\u001b[0mself\u001b[0m\u001b[0;34m,\u001b[0m \u001b[0mendog\u001b[0m\u001b[0;34m,\u001b[0m \u001b[0mexog\u001b[0m\u001b[0;34m,\u001b[0m \u001b[0mcheck_rank\u001b[0m\u001b[0;34m=\u001b[0m\u001b[0;32mTrue\u001b[0m\u001b[0;34m,\u001b[0m \u001b[0;34m**\u001b[0m\u001b[0mkwargs\u001b[0m\u001b[0;34m)\u001b[0m\u001b[0;34m:\u001b[0m\u001b[0;34m\u001b[0m\u001b[0;34m\u001b[0m\u001b[0m\n\u001b[0;32m--> 457\u001b[0;31m         \u001b[0msuper\u001b[0m\u001b[0;34m(\u001b[0m\u001b[0;34m)\u001b[0m\u001b[0;34m.\u001b[0m\u001b[0m__init__\u001b[0m\u001b[0;34m(\u001b[0m\u001b[0mendog\u001b[0m\u001b[0;34m,\u001b[0m \u001b[0mexog\u001b[0m\u001b[0;34m,\u001b[0m \u001b[0mcheck_rank\u001b[0m\u001b[0;34m,\u001b[0m \u001b[0;34m**\u001b[0m\u001b[0mkwargs\u001b[0m\u001b[0;34m)\u001b[0m\u001b[0;34m\u001b[0m\u001b[0;34m\u001b[0m\u001b[0m\n\u001b[0m\u001b[1;32m    458\u001b[0m \u001b[0;34m\u001b[0m\u001b[0m\n\u001b[1;32m    459\u001b[0m         \u001b[0;32mif\u001b[0m \u001b[0;32mnot\u001b[0m \u001b[0missubclass\u001b[0m\u001b[0;34m(\u001b[0m\u001b[0mself\u001b[0m\u001b[0;34m.\u001b[0m\u001b[0m__class__\u001b[0m\u001b[0;34m,\u001b[0m \u001b[0mMultinomialModel\u001b[0m\u001b[0;34m)\u001b[0m\u001b[0;34m:\u001b[0m\u001b[0;34m\u001b[0m\u001b[0;34m\u001b[0m\u001b[0m\n",
      "\u001b[0;32m/Library/Frameworks/Python.framework/Versions/3.9/lib/python3.9/site-packages/statsmodels/discrete/discrete_model.py\u001b[0m in \u001b[0;36m__init__\u001b[0;34m(self, endog, exog, check_rank, **kwargs)\u001b[0m\n\u001b[1;32m    173\u001b[0m     \u001b[0;32mdef\u001b[0m \u001b[0m__init__\u001b[0m\u001b[0;34m(\u001b[0m\u001b[0mself\u001b[0m\u001b[0;34m,\u001b[0m \u001b[0mendog\u001b[0m\u001b[0;34m,\u001b[0m \u001b[0mexog\u001b[0m\u001b[0;34m,\u001b[0m \u001b[0mcheck_rank\u001b[0m\u001b[0;34m=\u001b[0m\u001b[0;32mTrue\u001b[0m\u001b[0;34m,\u001b[0m \u001b[0;34m**\u001b[0m\u001b[0mkwargs\u001b[0m\u001b[0;34m)\u001b[0m\u001b[0;34m:\u001b[0m\u001b[0;34m\u001b[0m\u001b[0;34m\u001b[0m\u001b[0m\n\u001b[1;32m    174\u001b[0m         \u001b[0mself\u001b[0m\u001b[0;34m.\u001b[0m\u001b[0m_check_rank\u001b[0m \u001b[0;34m=\u001b[0m \u001b[0mcheck_rank\u001b[0m\u001b[0;34m\u001b[0m\u001b[0;34m\u001b[0m\u001b[0m\n\u001b[0;32m--> 175\u001b[0;31m         \u001b[0msuper\u001b[0m\u001b[0;34m(\u001b[0m\u001b[0;34m)\u001b[0m\u001b[0;34m.\u001b[0m\u001b[0m__init__\u001b[0m\u001b[0;34m(\u001b[0m\u001b[0mendog\u001b[0m\u001b[0;34m,\u001b[0m \u001b[0mexog\u001b[0m\u001b[0;34m,\u001b[0m \u001b[0;34m**\u001b[0m\u001b[0mkwargs\u001b[0m\u001b[0;34m)\u001b[0m\u001b[0;34m\u001b[0m\u001b[0;34m\u001b[0m\u001b[0m\n\u001b[0m\u001b[1;32m    176\u001b[0m         \u001b[0mself\u001b[0m\u001b[0;34m.\u001b[0m\u001b[0mraise_on_perfect_prediction\u001b[0m \u001b[0;34m=\u001b[0m \u001b[0;32mTrue\u001b[0m\u001b[0;34m\u001b[0m\u001b[0;34m\u001b[0m\u001b[0m\n\u001b[1;32m    177\u001b[0m \u001b[0;34m\u001b[0m\u001b[0m\n",
      "\u001b[0;32m/Library/Frameworks/Python.framework/Versions/3.9/lib/python3.9/site-packages/statsmodels/base/model.py\u001b[0m in \u001b[0;36m__init__\u001b[0;34m(self, endog, exog, **kwargs)\u001b[0m\n\u001b[1;32m    235\u001b[0m \u001b[0;34m\u001b[0m\u001b[0m\n\u001b[1;32m    236\u001b[0m     \u001b[0;32mdef\u001b[0m \u001b[0m__init__\u001b[0m\u001b[0;34m(\u001b[0m\u001b[0mself\u001b[0m\u001b[0;34m,\u001b[0m \u001b[0mendog\u001b[0m\u001b[0;34m,\u001b[0m \u001b[0mexog\u001b[0m\u001b[0;34m=\u001b[0m\u001b[0;32mNone\u001b[0m\u001b[0;34m,\u001b[0m \u001b[0;34m**\u001b[0m\u001b[0mkwargs\u001b[0m\u001b[0;34m)\u001b[0m\u001b[0;34m:\u001b[0m\u001b[0;34m\u001b[0m\u001b[0;34m\u001b[0m\u001b[0m\n\u001b[0;32m--> 237\u001b[0;31m         \u001b[0msuper\u001b[0m\u001b[0;34m(\u001b[0m\u001b[0mLikelihoodModel\u001b[0m\u001b[0;34m,\u001b[0m \u001b[0mself\u001b[0m\u001b[0;34m)\u001b[0m\u001b[0;34m.\u001b[0m\u001b[0m__init__\u001b[0m\u001b[0;34m(\u001b[0m\u001b[0mendog\u001b[0m\u001b[0;34m,\u001b[0m \u001b[0mexog\u001b[0m\u001b[0;34m,\u001b[0m \u001b[0;34m**\u001b[0m\u001b[0mkwargs\u001b[0m\u001b[0;34m)\u001b[0m\u001b[0;34m\u001b[0m\u001b[0;34m\u001b[0m\u001b[0m\n\u001b[0m\u001b[1;32m    238\u001b[0m         \u001b[0mself\u001b[0m\u001b[0;34m.\u001b[0m\u001b[0minitialize\u001b[0m\u001b[0;34m(\u001b[0m\u001b[0;34m)\u001b[0m\u001b[0;34m\u001b[0m\u001b[0;34m\u001b[0m\u001b[0m\n\u001b[1;32m    239\u001b[0m \u001b[0;34m\u001b[0m\u001b[0m\n",
      "\u001b[0;32m/Library/Frameworks/Python.framework/Versions/3.9/lib/python3.9/site-packages/statsmodels/base/model.py\u001b[0m in \u001b[0;36m__init__\u001b[0;34m(self, endog, exog, **kwargs)\u001b[0m\n\u001b[1;32m     75\u001b[0m         \u001b[0mmissing\u001b[0m \u001b[0;34m=\u001b[0m \u001b[0mkwargs\u001b[0m\u001b[0;34m.\u001b[0m\u001b[0mpop\u001b[0m\u001b[0;34m(\u001b[0m\u001b[0;34m'missing'\u001b[0m\u001b[0;34m,\u001b[0m \u001b[0;34m'none'\u001b[0m\u001b[0;34m)\u001b[0m\u001b[0;34m\u001b[0m\u001b[0;34m\u001b[0m\u001b[0m\n\u001b[1;32m     76\u001b[0m         \u001b[0mhasconst\u001b[0m \u001b[0;34m=\u001b[0m \u001b[0mkwargs\u001b[0m\u001b[0;34m.\u001b[0m\u001b[0mpop\u001b[0m\u001b[0;34m(\u001b[0m\u001b[0;34m'hasconst'\u001b[0m\u001b[0;34m,\u001b[0m \u001b[0;32mNone\u001b[0m\u001b[0;34m)\u001b[0m\u001b[0;34m\u001b[0m\u001b[0;34m\u001b[0m\u001b[0m\n\u001b[0;32m---> 77\u001b[0;31m         self.data = self._handle_data(endog, exog, missing, hasconst,\n\u001b[0m\u001b[1;32m     78\u001b[0m                                       **kwargs)\n\u001b[1;32m     79\u001b[0m         \u001b[0mself\u001b[0m\u001b[0;34m.\u001b[0m\u001b[0mk_constant\u001b[0m \u001b[0;34m=\u001b[0m \u001b[0mself\u001b[0m\u001b[0;34m.\u001b[0m\u001b[0mdata\u001b[0m\u001b[0;34m.\u001b[0m\u001b[0mk_constant\u001b[0m\u001b[0;34m\u001b[0m\u001b[0;34m\u001b[0m\u001b[0m\n",
      "\u001b[0;32m/Library/Frameworks/Python.framework/Versions/3.9/lib/python3.9/site-packages/statsmodels/base/model.py\u001b[0m in \u001b[0;36m_handle_data\u001b[0;34m(self, endog, exog, missing, hasconst, **kwargs)\u001b[0m\n\u001b[1;32m     99\u001b[0m \u001b[0;34m\u001b[0m\u001b[0m\n\u001b[1;32m    100\u001b[0m     \u001b[0;32mdef\u001b[0m \u001b[0m_handle_data\u001b[0m\u001b[0;34m(\u001b[0m\u001b[0mself\u001b[0m\u001b[0;34m,\u001b[0m \u001b[0mendog\u001b[0m\u001b[0;34m,\u001b[0m \u001b[0mexog\u001b[0m\u001b[0;34m,\u001b[0m \u001b[0mmissing\u001b[0m\u001b[0;34m,\u001b[0m \u001b[0mhasconst\u001b[0m\u001b[0;34m,\u001b[0m \u001b[0;34m**\u001b[0m\u001b[0mkwargs\u001b[0m\u001b[0;34m)\u001b[0m\u001b[0;34m:\u001b[0m\u001b[0;34m\u001b[0m\u001b[0;34m\u001b[0m\u001b[0m\n\u001b[0;32m--> 101\u001b[0;31m         \u001b[0mdata\u001b[0m \u001b[0;34m=\u001b[0m \u001b[0mhandle_data\u001b[0m\u001b[0;34m(\u001b[0m\u001b[0mendog\u001b[0m\u001b[0;34m,\u001b[0m \u001b[0mexog\u001b[0m\u001b[0;34m,\u001b[0m \u001b[0mmissing\u001b[0m\u001b[0;34m,\u001b[0m \u001b[0mhasconst\u001b[0m\u001b[0;34m,\u001b[0m \u001b[0;34m**\u001b[0m\u001b[0mkwargs\u001b[0m\u001b[0;34m)\u001b[0m\u001b[0;34m\u001b[0m\u001b[0;34m\u001b[0m\u001b[0m\n\u001b[0m\u001b[1;32m    102\u001b[0m         \u001b[0;31m# kwargs arrays could have changed, easier to just attach here\u001b[0m\u001b[0;34m\u001b[0m\u001b[0;34m\u001b[0m\u001b[0;34m\u001b[0m\u001b[0m\n\u001b[1;32m    103\u001b[0m         \u001b[0;32mfor\u001b[0m \u001b[0mkey\u001b[0m \u001b[0;32min\u001b[0m \u001b[0mkwargs\u001b[0m\u001b[0;34m:\u001b[0m\u001b[0;34m\u001b[0m\u001b[0;34m\u001b[0m\u001b[0m\n",
      "\u001b[0;32m/Library/Frameworks/Python.framework/Versions/3.9/lib/python3.9/site-packages/statsmodels/base/data.py\u001b[0m in \u001b[0;36mhandle_data\u001b[0;34m(endog, exog, missing, hasconst, **kwargs)\u001b[0m\n\u001b[1;32m    670\u001b[0m \u001b[0;34m\u001b[0m\u001b[0m\n\u001b[1;32m    671\u001b[0m     \u001b[0mklass\u001b[0m \u001b[0;34m=\u001b[0m \u001b[0mhandle_data_class_factory\u001b[0m\u001b[0;34m(\u001b[0m\u001b[0mendog\u001b[0m\u001b[0;34m,\u001b[0m \u001b[0mexog\u001b[0m\u001b[0;34m)\u001b[0m\u001b[0;34m\u001b[0m\u001b[0;34m\u001b[0m\u001b[0m\n\u001b[0;32m--> 672\u001b[0;31m     return klass(endog, exog=exog, missing=missing, hasconst=hasconst,\n\u001b[0m\u001b[1;32m    673\u001b[0m                  **kwargs)\n",
      "\u001b[0;32m/Library/Frameworks/Python.framework/Versions/3.9/lib/python3.9/site-packages/statsmodels/base/data.py\u001b[0m in \u001b[0;36m__init__\u001b[0;34m(self, endog, exog, missing, hasconst, **kwargs)\u001b[0m\n\u001b[1;32m     85\u001b[0m         \u001b[0mself\u001b[0m\u001b[0;34m.\u001b[0m\u001b[0mconst_idx\u001b[0m \u001b[0;34m=\u001b[0m \u001b[0;32mNone\u001b[0m\u001b[0;34m\u001b[0m\u001b[0;34m\u001b[0m\u001b[0m\n\u001b[1;32m     86\u001b[0m         \u001b[0mself\u001b[0m\u001b[0;34m.\u001b[0m\u001b[0mk_constant\u001b[0m \u001b[0;34m=\u001b[0m \u001b[0;36m0\u001b[0m\u001b[0;34m\u001b[0m\u001b[0;34m\u001b[0m\u001b[0m\n\u001b[0;32m---> 87\u001b[0;31m         \u001b[0mself\u001b[0m\u001b[0;34m.\u001b[0m\u001b[0m_handle_constant\u001b[0m\u001b[0;34m(\u001b[0m\u001b[0mhasconst\u001b[0m\u001b[0;34m)\u001b[0m\u001b[0;34m\u001b[0m\u001b[0;34m\u001b[0m\u001b[0m\n\u001b[0m\u001b[1;32m     88\u001b[0m         \u001b[0mself\u001b[0m\u001b[0;34m.\u001b[0m\u001b[0m_check_integrity\u001b[0m\u001b[0;34m(\u001b[0m\u001b[0;34m)\u001b[0m\u001b[0;34m\u001b[0m\u001b[0;34m\u001b[0m\u001b[0m\n\u001b[1;32m     89\u001b[0m         \u001b[0mself\u001b[0m\u001b[0;34m.\u001b[0m\u001b[0m_cache\u001b[0m \u001b[0;34m=\u001b[0m \u001b[0;34m{\u001b[0m\u001b[0;34m}\u001b[0m\u001b[0;34m\u001b[0m\u001b[0;34m\u001b[0m\u001b[0m\n",
      "\u001b[0;32m/Library/Frameworks/Python.framework/Versions/3.9/lib/python3.9/site-packages/statsmodels/base/data.py\u001b[0m in \u001b[0;36m_handle_constant\u001b[0;34m(self, hasconst)\u001b[0m\n\u001b[1;32m    129\u001b[0m             \u001b[0;31m# detect where the constant is\u001b[0m\u001b[0;34m\u001b[0m\u001b[0;34m\u001b[0m\u001b[0;34m\u001b[0m\u001b[0m\n\u001b[1;32m    130\u001b[0m             \u001b[0mcheck_implicit\u001b[0m \u001b[0;34m=\u001b[0m \u001b[0;32mFalse\u001b[0m\u001b[0;34m\u001b[0m\u001b[0;34m\u001b[0m\u001b[0m\n\u001b[0;32m--> 131\u001b[0;31m             \u001b[0mexog_max\u001b[0m \u001b[0;34m=\u001b[0m \u001b[0mnp\u001b[0m\u001b[0;34m.\u001b[0m\u001b[0mmax\u001b[0m\u001b[0;34m(\u001b[0m\u001b[0mself\u001b[0m\u001b[0;34m.\u001b[0m\u001b[0mexog\u001b[0m\u001b[0;34m,\u001b[0m \u001b[0maxis\u001b[0m\u001b[0;34m=\u001b[0m\u001b[0;36m0\u001b[0m\u001b[0;34m)\u001b[0m\u001b[0;34m\u001b[0m\u001b[0;34m\u001b[0m\u001b[0m\n\u001b[0m\u001b[1;32m    132\u001b[0m             \u001b[0;32mif\u001b[0m \u001b[0;32mnot\u001b[0m \u001b[0mnp\u001b[0m\u001b[0;34m.\u001b[0m\u001b[0misfinite\u001b[0m\u001b[0;34m(\u001b[0m\u001b[0mexog_max\u001b[0m\u001b[0;34m)\u001b[0m\u001b[0;34m.\u001b[0m\u001b[0mall\u001b[0m\u001b[0;34m(\u001b[0m\u001b[0;34m)\u001b[0m\u001b[0;34m:\u001b[0m\u001b[0;34m\u001b[0m\u001b[0;34m\u001b[0m\u001b[0m\n\u001b[1;32m    133\u001b[0m                 \u001b[0;32mraise\u001b[0m \u001b[0mMissingDataError\u001b[0m\u001b[0;34m(\u001b[0m\u001b[0;34m'exog contains inf or nans'\u001b[0m\u001b[0;34m)\u001b[0m\u001b[0;34m\u001b[0m\u001b[0;34m\u001b[0m\u001b[0m\n",
      "\u001b[0;32m<__array_function__ internals>\u001b[0m in \u001b[0;36mamax\u001b[0;34m(*args, **kwargs)\u001b[0m\n",
      "\u001b[0;32m/Library/Frameworks/Python.framework/Versions/3.9/lib/python3.9/site-packages/numpy/core/fromnumeric.py\u001b[0m in \u001b[0;36mamax\u001b[0;34m(a, axis, out, keepdims, initial, where)\u001b[0m\n\u001b[1;32m   2703\u001b[0m     \u001b[0;36m5\u001b[0m\u001b[0;34m\u001b[0m\u001b[0;34m\u001b[0m\u001b[0m\n\u001b[1;32m   2704\u001b[0m     \"\"\"\n\u001b[0;32m-> 2705\u001b[0;31m     return _wrapreduction(a, np.maximum, 'max', axis, None, out,\n\u001b[0m\u001b[1;32m   2706\u001b[0m                           keepdims=keepdims, initial=initial, where=where)\n\u001b[1;32m   2707\u001b[0m \u001b[0;34m\u001b[0m\u001b[0m\n",
      "\u001b[0;32m/Library/Frameworks/Python.framework/Versions/3.9/lib/python3.9/site-packages/numpy/core/fromnumeric.py\u001b[0m in \u001b[0;36m_wrapreduction\u001b[0;34m(obj, ufunc, method, axis, dtype, out, **kwargs)\u001b[0m\n\u001b[1;32m     85\u001b[0m                 \u001b[0;32mreturn\u001b[0m \u001b[0mreduction\u001b[0m\u001b[0;34m(\u001b[0m\u001b[0maxis\u001b[0m\u001b[0;34m=\u001b[0m\u001b[0maxis\u001b[0m\u001b[0;34m,\u001b[0m \u001b[0mout\u001b[0m\u001b[0;34m=\u001b[0m\u001b[0mout\u001b[0m\u001b[0;34m,\u001b[0m \u001b[0;34m**\u001b[0m\u001b[0mpasskwargs\u001b[0m\u001b[0;34m)\u001b[0m\u001b[0;34m\u001b[0m\u001b[0;34m\u001b[0m\u001b[0m\n\u001b[1;32m     86\u001b[0m \u001b[0;34m\u001b[0m\u001b[0m\n\u001b[0;32m---> 87\u001b[0;31m     \u001b[0;32mreturn\u001b[0m \u001b[0mufunc\u001b[0m\u001b[0;34m.\u001b[0m\u001b[0mreduce\u001b[0m\u001b[0;34m(\u001b[0m\u001b[0mobj\u001b[0m\u001b[0;34m,\u001b[0m \u001b[0maxis\u001b[0m\u001b[0;34m,\u001b[0m \u001b[0mdtype\u001b[0m\u001b[0;34m,\u001b[0m \u001b[0mout\u001b[0m\u001b[0;34m,\u001b[0m \u001b[0;34m**\u001b[0m\u001b[0mpasskwargs\u001b[0m\u001b[0;34m)\u001b[0m\u001b[0;34m\u001b[0m\u001b[0;34m\u001b[0m\u001b[0m\n\u001b[0m\u001b[1;32m     88\u001b[0m \u001b[0;34m\u001b[0m\u001b[0m\n\u001b[1;32m     89\u001b[0m \u001b[0;34m\u001b[0m\u001b[0m\n",
      "\u001b[0;31mValueError\u001b[0m: zero-size array to reduction operation maximum which has no identity"
     ]
    }
   ],
   "source": []
  },
  {
   "cell_type": "code",
   "execution_count": 42,
   "id": "solar-culture",
   "metadata": {},
   "outputs": [
    {
     "data": {
      "text/html": [
       "<div>\n",
       "<style scoped>\n",
       "    .dataframe tbody tr th:only-of-type {\n",
       "        vertical-align: middle;\n",
       "    }\n",
       "\n",
       "    .dataframe tbody tr th {\n",
       "        vertical-align: top;\n",
       "    }\n",
       "\n",
       "    .dataframe thead th {\n",
       "        text-align: right;\n",
       "    }\n",
       "</style>\n",
       "<table border=\"1\" class=\"dataframe\">\n",
       "  <thead>\n",
       "    <tr style=\"text-align: right;\">\n",
       "      <th></th>\n",
       "      <th>determinism</th>\n",
       "      <th>recurrence_rate</th>\n",
       "      <th>entropy</th>\n",
       "      <th>longest_diagonal_line</th>\n",
       "      <th>laminarity</th>\n",
       "      <th>divergence</th>\n",
       "      <th>num_messages</th>\n",
       "      <th>female_maj</th>\n",
       "      <th>performance</th>\n",
       "    </tr>\n",
       "  </thead>\n",
       "  <tbody>\n",
       "    <tr>\n",
       "      <th>0</th>\n",
       "      <td>0.428571</td>\n",
       "      <td>0.201646</td>\n",
       "      <td>0.752975</td>\n",
       "      <td>27</td>\n",
       "      <td>0.394558</td>\n",
       "      <td>0.037037</td>\n",
       "      <td>27</td>\n",
       "      <td>NaN</td>\n",
       "      <td>NaN</td>\n",
       "    </tr>\n",
       "    <tr>\n",
       "      <th>1</th>\n",
       "      <td>0.600000</td>\n",
       "      <td>0.300000</td>\n",
       "      <td>0.500402</td>\n",
       "      <td>10</td>\n",
       "      <td>0.000000</td>\n",
       "      <td>0.100000</td>\n",
       "      <td>10</td>\n",
       "      <td>NaN</td>\n",
       "      <td>NaN</td>\n",
       "    </tr>\n",
       "    <tr>\n",
       "      <th>2</th>\n",
       "      <td>0.653179</td>\n",
       "      <td>0.276800</td>\n",
       "      <td>0.929618</td>\n",
       "      <td>25</td>\n",
       "      <td>0.693642</td>\n",
       "      <td>0.040000</td>\n",
       "      <td>25</td>\n",
       "      <td>NaN</td>\n",
       "      <td>NaN</td>\n",
       "    </tr>\n",
       "    <tr>\n",
       "      <th>3</th>\n",
       "      <td>0.510417</td>\n",
       "      <td>0.198347</td>\n",
       "      <td>0.416431</td>\n",
       "      <td>44</td>\n",
       "      <td>0.395833</td>\n",
       "      <td>0.022727</td>\n",
       "      <td>44</td>\n",
       "      <td>NaN</td>\n",
       "      <td>NaN</td>\n",
       "    </tr>\n",
       "    <tr>\n",
       "      <th>4</th>\n",
       "      <td>0.426434</td>\n",
       "      <td>0.198025</td>\n",
       "      <td>0.709256</td>\n",
       "      <td>45</td>\n",
       "      <td>0.309227</td>\n",
       "      <td>0.022222</td>\n",
       "      <td>45</td>\n",
       "      <td>NaN</td>\n",
       "      <td>NaN</td>\n",
       "    </tr>\n",
       "    <tr>\n",
       "      <th>...</th>\n",
       "      <td>...</td>\n",
       "      <td>...</td>\n",
       "      <td>...</td>\n",
       "      <td>...</td>\n",
       "      <td>...</td>\n",
       "      <td>...</td>\n",
       "      <td>...</td>\n",
       "      <td>...</td>\n",
       "      <td>...</td>\n",
       "    </tr>\n",
       "    <tr>\n",
       "      <th>816</th>\n",
       "      <td>0.376871</td>\n",
       "      <td>0.208333</td>\n",
       "      <td>0.719778</td>\n",
       "      <td>84</td>\n",
       "      <td>0.409524</td>\n",
       "      <td>0.011905</td>\n",
       "      <td>84</td>\n",
       "      <td>NaN</td>\n",
       "      <td>NaN</td>\n",
       "    </tr>\n",
       "    <tr>\n",
       "      <th>817</th>\n",
       "      <td>0.462185</td>\n",
       "      <td>0.269841</td>\n",
       "      <td>0.848686</td>\n",
       "      <td>21</td>\n",
       "      <td>0.705882</td>\n",
       "      <td>0.047619</td>\n",
       "      <td>21</td>\n",
       "      <td>NaN</td>\n",
       "      <td>NaN</td>\n",
       "    </tr>\n",
       "    <tr>\n",
       "      <th>818</th>\n",
       "      <td>0.497951</td>\n",
       "      <td>0.238281</td>\n",
       "      <td>0.597450</td>\n",
       "      <td>64</td>\n",
       "      <td>0.674180</td>\n",
       "      <td>0.015625</td>\n",
       "      <td>64</td>\n",
       "      <td>NaN</td>\n",
       "      <td>NaN</td>\n",
       "    </tr>\n",
       "    <tr>\n",
       "      <th>819</th>\n",
       "      <td>0.692308</td>\n",
       "      <td>0.260000</td>\n",
       "      <td>0.500402</td>\n",
       "      <td>10</td>\n",
       "      <td>0.461538</td>\n",
       "      <td>0.100000</td>\n",
       "      <td>10</td>\n",
       "      <td>NaN</td>\n",
       "      <td>NaN</td>\n",
       "    </tr>\n",
       "    <tr>\n",
       "      <th>820</th>\n",
       "      <td>0.438202</td>\n",
       "      <td>0.195033</td>\n",
       "      <td>0.639641</td>\n",
       "      <td>37</td>\n",
       "      <td>0.445693</td>\n",
       "      <td>0.027027</td>\n",
       "      <td>37</td>\n",
       "      <td>NaN</td>\n",
       "      <td>NaN</td>\n",
       "    </tr>\n",
       "  </tbody>\n",
       "</table>\n",
       "<p>821 rows × 9 columns</p>\n",
       "</div>"
      ],
      "text/plain": [
       "     determinism  recurrence_rate   entropy  longest_diagonal_line  \\\n",
       "0       0.428571         0.201646  0.752975                     27   \n",
       "1       0.600000         0.300000  0.500402                     10   \n",
       "2       0.653179         0.276800  0.929618                     25   \n",
       "3       0.510417         0.198347  0.416431                     44   \n",
       "4       0.426434         0.198025  0.709256                     45   \n",
       "..           ...              ...       ...                    ...   \n",
       "816     0.376871         0.208333  0.719778                     84   \n",
       "817     0.462185         0.269841  0.848686                     21   \n",
       "818     0.497951         0.238281  0.597450                     64   \n",
       "819     0.692308         0.260000  0.500402                     10   \n",
       "820     0.438202         0.195033  0.639641                     37   \n",
       "\n",
       "     laminarity  divergence  num_messages female_maj performance  \n",
       "0      0.394558    0.037037            27        NaN         NaN  \n",
       "1      0.000000    0.100000            10        NaN         NaN  \n",
       "2      0.693642    0.040000            25        NaN         NaN  \n",
       "3      0.395833    0.022727            44        NaN         NaN  \n",
       "4      0.309227    0.022222            45        NaN         NaN  \n",
       "..          ...         ...           ...        ...         ...  \n",
       "816    0.409524    0.011905            84        NaN         NaN  \n",
       "817    0.705882    0.047619            21        NaN         NaN  \n",
       "818    0.674180    0.015625            64        NaN         NaN  \n",
       "819    0.461538    0.100000            10        NaN         NaN  \n",
       "820    0.445693    0.027027            37        NaN         NaN  \n",
       "\n",
       "[821 rows x 9 columns]"
      ]
     },
     "execution_count": 42,
     "metadata": {},
     "output_type": "execute_result"
    }
   ],
   "source": [
    "Xtrain"
   ]
  },
  {
   "cell_type": "code",
   "execution_count": 44,
   "id": "entitled-keyboard",
   "metadata": {},
   "outputs": [
    {
     "data": {
      "text/plain": [
       "team_id\n",
       "163793_163929_189654_163202         1\n",
       "164313_196441_169447_176980         0\n",
       "164987_168746_183931_164559         1\n",
       "165634_166063_180976_201648         1\n",
       "165974_166149_166141_185120         0\n",
       "                                   ..\n",
       "201620_174788_194314_175043         0\n",
       "201973_172169_198974_185491         1\n",
       "202919_Ratlife2001_198808_163573    0\n",
       "203404_198251_191802_166085         1\n",
       "Isabella_195466_187876_180275       1\n",
       "Name: female_maj, Length: 821, dtype: int64"
      ]
     },
     "execution_count": 44,
     "metadata": {},
     "output_type": "execute_result"
    }
   ],
   "source": [
    "data.groupby(['team_id'])['female_maj'].max()"
   ]
  },
  {
   "cell_type": "code",
   "execution_count": 54,
   "id": "durable-dimension",
   "metadata": {},
   "outputs": [
    {
     "data": {
      "text/plain": [
       "team_id\n",
       "163793_163929_189654_163202    [SMC, SSI, SMC, CRF, SSI, SSI, CRF, CE, SESU, ...\n",
       "164313_196441_169447_176980    [SMC, SN, SMC, SESU, SN, SMC, SSI, SMC, SN, SESU]\n",
       "164987_168746_183931_164559    [SMC, SMC, SMC, SMC, SMC, SESU, SSI, CM, SESU,...\n",
       "165634_166063_180976_201648    [SMC, SMC, SMC, SESU, SN, SN, SN, CRF, CM, CP,...\n",
       "165974_166149_166141_185120    [SMC, SESU, SSI, SSI, CRF, SESU, SESU, CRF, SE...\n",
       "166559_188562_187413_185474    [SMC, SESU, SSI, SESU, CRF, SSI, SSI, CE, SSI,...\n",
       "166720_163354_166483_190742    [SMC, SSI, SESU, CRF, CP, SSI, CRF, SSI, SSI, ...\n",
       "166807_166145_190974_169429    [SSI, SSI, SSI, SSI, CE, CE, CRF, CRF, SN, SN,...\n",
       "166874_184968_166265_189740    [SMC, SESU, SSI, SN, SESU, SSI, SSI, SSI, CRF,...\n",
       "166943_182927_168426_174245    [SMC, SN, SSI, CRF, SSI, SN, SN, SSI, SSI, SES...\n",
       "166968_201210_166778_196519    [SMC, SN, SSI, SMC, CM, CRF, SMC, CRF, SMC, SN...\n",
       "167001_201680_178633_181167    [SMC, SMC, SMC, SMC, SMC, SMC, SMC, SMC, SMC, ...\n",
       "167156_190133_167333_168215    [SMC, SESU, SSI, SSI, SSI, SSI, CRF, CP, SESU,...\n",
       "167326_193457_201297_194566    [SMC, SMC, SSI, SN, SSI, SSI, SSI, CE, CE, SSI...\n",
       "167332_163585_168642_189613    [SMC, SN, SSI, CRF, CRF, CRF, SESU, SSI, SSI, ...\n",
       "167358_202060_169460_zotzot    [SMC, SESU, SSI, CM, SN, CRF, SSI, CRF, SN, CR...\n",
       "168162_196892_163903_201600    [SMC, SMC, SMC, SMC, CE, SSI, SESU, TD, CRF, C...\n",
       "168299_186054_194595_173656    [SMC, SSI, SSI, SMC, SMC, SSI, SESU, SESU, CRF...\n",
       "Name: Primary code , dtype: object"
      ]
     },
     "execution_count": 54,
     "metadata": {},
     "output_type": "execute_result"
    }
   ],
   "source": [
    "codes_list[:18]"
   ]
  },
  {
   "cell_type": "code",
   "execution_count": null,
   "id": "sudden-karma",
   "metadata": {},
   "outputs": [],
   "source": []
  }
 ],
 "metadata": {
  "kernelspec": {
   "display_name": "Python 3",
   "language": "python",
   "name": "python3"
  },
  "language_info": {
   "codemirror_mode": {
    "name": "ipython",
    "version": 3
   },
   "file_extension": ".py",
   "mimetype": "text/x-python",
   "name": "python",
   "nbconvert_exporter": "python",
   "pygments_lexer": "ipython3",
   "version": "3.9.1"
  }
 },
 "nbformat": 4,
 "nbformat_minor": 5
}
