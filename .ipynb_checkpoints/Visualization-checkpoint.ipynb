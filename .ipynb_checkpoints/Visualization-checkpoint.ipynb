{
 "cells": [
  {
   "cell_type": "code",
   "execution_count": 1,
   "id": "fundamental-forth",
   "metadata": {},
   "outputs": [],
   "source": [
    "import pandas as pd\n",
    "import numpy as np\n",
    "import matplotlib.pyplot as plt\n",
    "import seaborn as sns"
   ]
  },
  {
   "cell_type": "code",
   "execution_count": 2,
   "id": "neither-ranking",
   "metadata": {},
   "outputs": [],
   "source": [
    "data = pd.read_csv('data_gender_ethnicity_merged.csv')"
   ]
  },
  {
   "cell_type": "code",
   "execution_count": 3,
   "id": "exterior-lebanon",
   "metadata": {},
   "outputs": [
    {
     "data": {
      "text/html": [
       "<div>\n",
       "<style scoped>\n",
       "    .dataframe tbody tr th:only-of-type {\n",
       "        vertical-align: middle;\n",
       "    }\n",
       "\n",
       "    .dataframe tbody tr th {\n",
       "        vertical-align: top;\n",
       "    }\n",
       "\n",
       "    .dataframe thead th {\n",
       "        text-align: right;\n",
       "    }\n",
       "</style>\n",
       "<table border=\"1\" class=\"dataframe\">\n",
       "  <thead>\n",
       "    <tr style=\"text-align: right;\">\n",
       "      <th></th>\n",
       "      <th>Unnamed: 0</th>\n",
       "      <th>task_x</th>\n",
       "      <th>team_id</th>\n",
       "      <th>mellon_id</th>\n",
       "      <th>Primary code</th>\n",
       "      <th>revise_score</th>\n",
       "      <th>high_performance</th>\n",
       "      <th>female_members</th>\n",
       "      <th>female_maj</th>\n",
       "      <th>gender</th>\n",
       "      <th>ethnicity</th>\n",
       "      <th>application_status</th>\n",
       "      <th>first_generation</th>\n",
       "    </tr>\n",
       "  </thead>\n",
       "  <tbody>\n",
       "    <tr>\n",
       "      <th>0</th>\n",
       "      <td>0</td>\n",
       "      <td>apartment</td>\n",
       "      <td>179706_162850_162936_182908</td>\n",
       "      <td>162850</td>\n",
       "      <td>SMC</td>\n",
       "      <td>1.0</td>\n",
       "      <td>1</td>\n",
       "      <td>2</td>\n",
       "      <td>0</td>\n",
       "      <td>M</td>\n",
       "      <td>Hispanic</td>\n",
       "      <td>Junior</td>\n",
       "      <td>1.0</td>\n",
       "    </tr>\n",
       "    <tr>\n",
       "      <th>1</th>\n",
       "      <td>1</td>\n",
       "      <td>apartment</td>\n",
       "      <td>179706_162850_162936_182908</td>\n",
       "      <td>162850</td>\n",
       "      <td>CM</td>\n",
       "      <td>1.0</td>\n",
       "      <td>1</td>\n",
       "      <td>2</td>\n",
       "      <td>0</td>\n",
       "      <td>M</td>\n",
       "      <td>Hispanic</td>\n",
       "      <td>Junior</td>\n",
       "      <td>1.0</td>\n",
       "    </tr>\n",
       "    <tr>\n",
       "      <th>2</th>\n",
       "      <td>2</td>\n",
       "      <td>apartment</td>\n",
       "      <td>179706_162850_162936_182908</td>\n",
       "      <td>162850</td>\n",
       "      <td>CE</td>\n",
       "      <td>1.0</td>\n",
       "      <td>1</td>\n",
       "      <td>2</td>\n",
       "      <td>0</td>\n",
       "      <td>M</td>\n",
       "      <td>Hispanic</td>\n",
       "      <td>Junior</td>\n",
       "      <td>1.0</td>\n",
       "    </tr>\n",
       "    <tr>\n",
       "      <th>3</th>\n",
       "      <td>3</td>\n",
       "      <td>apartment</td>\n",
       "      <td>179706_162850_162936_182908</td>\n",
       "      <td>162850</td>\n",
       "      <td>SMC</td>\n",
       "      <td>1.0</td>\n",
       "      <td>1</td>\n",
       "      <td>2</td>\n",
       "      <td>0</td>\n",
       "      <td>M</td>\n",
       "      <td>Hispanic</td>\n",
       "      <td>Junior</td>\n",
       "      <td>1.0</td>\n",
       "    </tr>\n",
       "    <tr>\n",
       "      <th>4</th>\n",
       "      <td>4</td>\n",
       "      <td>apartment</td>\n",
       "      <td>179706_162850_162936_182908</td>\n",
       "      <td>162850</td>\n",
       "      <td>SSI</td>\n",
       "      <td>1.0</td>\n",
       "      <td>1</td>\n",
       "      <td>2</td>\n",
       "      <td>0</td>\n",
       "      <td>M</td>\n",
       "      <td>Hispanic</td>\n",
       "      <td>Junior</td>\n",
       "      <td>1.0</td>\n",
       "    </tr>\n",
       "    <tr>\n",
       "      <th>...</th>\n",
       "      <td>...</td>\n",
       "      <td>...</td>\n",
       "      <td>...</td>\n",
       "      <td>...</td>\n",
       "      <td>...</td>\n",
       "      <td>...</td>\n",
       "      <td>...</td>\n",
       "      <td>...</td>\n",
       "      <td>...</td>\n",
       "      <td>...</td>\n",
       "      <td>...</td>\n",
       "      <td>...</td>\n",
       "      <td>...</td>\n",
       "    </tr>\n",
       "    <tr>\n",
       "      <th>7757</th>\n",
       "      <td>7757</td>\n",
       "      <td>Candidate</td>\n",
       "      <td>190690_163721_178949_190053</td>\n",
       "      <td>165170</td>\n",
       "      <td>SMC</td>\n",
       "      <td>0.0</td>\n",
       "      <td>0</td>\n",
       "      <td>3</td>\n",
       "      <td>1</td>\n",
       "      <td>F</td>\n",
       "      <td>Asian / Asian American</td>\n",
       "      <td>Junior</td>\n",
       "      <td>1.0</td>\n",
       "    </tr>\n",
       "    <tr>\n",
       "      <th>7758</th>\n",
       "      <td>7758</td>\n",
       "      <td>Candidate</td>\n",
       "      <td>190690_163721_178949_190054</td>\n",
       "      <td>165170</td>\n",
       "      <td>CE</td>\n",
       "      <td>0.0</td>\n",
       "      <td>0</td>\n",
       "      <td>3</td>\n",
       "      <td>1</td>\n",
       "      <td>F</td>\n",
       "      <td>Asian / Asian American</td>\n",
       "      <td>Junior</td>\n",
       "      <td>1.0</td>\n",
       "    </tr>\n",
       "    <tr>\n",
       "      <th>7759</th>\n",
       "      <td>7759</td>\n",
       "      <td>Candidate</td>\n",
       "      <td>190690_163721_178949_190058</td>\n",
       "      <td>165170</td>\n",
       "      <td>SSI</td>\n",
       "      <td>0.0</td>\n",
       "      <td>0</td>\n",
       "      <td>3</td>\n",
       "      <td>1</td>\n",
       "      <td>F</td>\n",
       "      <td>Asian / Asian American</td>\n",
       "      <td>Junior</td>\n",
       "      <td>1.0</td>\n",
       "    </tr>\n",
       "    <tr>\n",
       "      <th>7760</th>\n",
       "      <td>7760</td>\n",
       "      <td>Candidate</td>\n",
       "      <td>190690_163721_178949_190065</td>\n",
       "      <td>165170</td>\n",
       "      <td>SSI</td>\n",
       "      <td>0.0</td>\n",
       "      <td>0</td>\n",
       "      <td>3</td>\n",
       "      <td>1</td>\n",
       "      <td>F</td>\n",
       "      <td>Asian / Asian American</td>\n",
       "      <td>Junior</td>\n",
       "      <td>1.0</td>\n",
       "    </tr>\n",
       "    <tr>\n",
       "      <th>7761</th>\n",
       "      <td>7761</td>\n",
       "      <td>Candidate</td>\n",
       "      <td>190690_163721_178949_190070</td>\n",
       "      <td>165170</td>\n",
       "      <td>SN</td>\n",
       "      <td>0.0</td>\n",
       "      <td>0</td>\n",
       "      <td>4</td>\n",
       "      <td>1</td>\n",
       "      <td>F</td>\n",
       "      <td>Asian / Asian American</td>\n",
       "      <td>Junior</td>\n",
       "      <td>1.0</td>\n",
       "    </tr>\n",
       "  </tbody>\n",
       "</table>\n",
       "<p>7762 rows × 13 columns</p>\n",
       "</div>"
      ],
      "text/plain": [
       "      Unnamed: 0     task_x                      team_id mellon_id  \\\n",
       "0              0  apartment  179706_162850_162936_182908    162850   \n",
       "1              1  apartment  179706_162850_162936_182908    162850   \n",
       "2              2  apartment  179706_162850_162936_182908    162850   \n",
       "3              3  apartment  179706_162850_162936_182908    162850   \n",
       "4              4  apartment  179706_162850_162936_182908    162850   \n",
       "...          ...        ...                          ...       ...   \n",
       "7757        7757  Candidate  190690_163721_178949_190053    165170   \n",
       "7758        7758  Candidate  190690_163721_178949_190054    165170   \n",
       "7759        7759  Candidate  190690_163721_178949_190058    165170   \n",
       "7760        7760  Candidate  190690_163721_178949_190065    165170   \n",
       "7761        7761  Candidate  190690_163721_178949_190070    165170   \n",
       "\n",
       "     Primary code   revise_score  high_performance  female_members  \\\n",
       "0              SMC           1.0                 1               2   \n",
       "1               CM           1.0                 1               2   \n",
       "2               CE           1.0                 1               2   \n",
       "3              SMC           1.0                 1               2   \n",
       "4              SSI           1.0                 1               2   \n",
       "...            ...           ...               ...             ...   \n",
       "7757           SMC           0.0                 0               3   \n",
       "7758            CE           0.0                 0               3   \n",
       "7759           SSI           0.0                 0               3   \n",
       "7760           SSI           0.0                 0               3   \n",
       "7761            SN           0.0                 0               4   \n",
       "\n",
       "      female_maj gender               ethnicity application_status  \\\n",
       "0              0      M                Hispanic             Junior   \n",
       "1              0      M                Hispanic             Junior   \n",
       "2              0      M                Hispanic             Junior   \n",
       "3              0      M                Hispanic             Junior   \n",
       "4              0      M                Hispanic             Junior   \n",
       "...          ...    ...                     ...                ...   \n",
       "7757           1      F  Asian / Asian American             Junior   \n",
       "7758           1      F  Asian / Asian American             Junior   \n",
       "7759           1      F  Asian / Asian American             Junior   \n",
       "7760           1      F  Asian / Asian American             Junior   \n",
       "7761           1      F  Asian / Asian American             Junior   \n",
       "\n",
       "      first_generation  \n",
       "0                  1.0  \n",
       "1                  1.0  \n",
       "2                  1.0  \n",
       "3                  1.0  \n",
       "4                  1.0  \n",
       "...                ...  \n",
       "7757               1.0  \n",
       "7758               1.0  \n",
       "7759               1.0  \n",
       "7760               1.0  \n",
       "7761               1.0  \n",
       "\n",
       "[7762 rows x 13 columns]"
      ]
     },
     "execution_count": 3,
     "metadata": {},
     "output_type": "execute_result"
    }
   ],
   "source": [
    "data"
   ]
  },
  {
   "cell_type": "code",
   "execution_count": 13,
   "id": "seven-bankruptcy",
   "metadata": {},
   "outputs": [
    {
     "data": {
      "text/plain": [
       "534"
      ]
     },
     "execution_count": 13,
     "metadata": {},
     "output_type": "execute_result"
    }
   ],
   "source": [
    "len(data.mellon_id.unique())"
   ]
  },
  {
   "cell_type": "code",
   "execution_count": 33,
   "id": "normal-definition",
   "metadata": {},
   "outputs": [],
   "source": [
    "my_cmap = plt.get_cmap(\"viridis\")"
   ]
  },
  {
   "cell_type": "code",
   "execution_count": 33,
   "id": "utility-dietary",
   "metadata": {},
   "outputs": [
    {
     "data": {
      "text/plain": [
       "1    624\n",
       "0    197\n",
       "Name: female_maj, dtype: int64"
      ]
     },
     "execution_count": 33,
     "metadata": {},
     "output_type": "execute_result"
    }
   ],
   "source": [
    "data.groupby(['team_id']).female_maj.max().value_counts()"
   ]
  },
  {
   "cell_type": "code",
   "execution_count": 34,
   "id": "vertical-insider",
   "metadata": {},
   "outputs": [
    {
     "data": {
      "image/png": "[encoded data removed]",
      "text/plain": [
       "<Figure size 432x288 with 1 Axes>"
      ]
     },
     "metadata": {
      "needs_background": "light"
     },
     "output_type": "display_data"
    }
   ],
   "source": [
    "fig = plt.figure()\n",
    "ax = fig.add_axes([0,0,1,1])\n",
    "langs = ['female majority', 'female minority or equal']\n",
    "students = data.groupby(['team_id']).female_maj.max().value_counts()\n",
    "ax.bar(langs,students)\n",
    "plt.show()"
   ]
  },
  {
   "cell_type": "code",
   "execution_count": 44,
   "id": "conditional-simulation",
   "metadata": {},
   "outputs": [
    {
     "data": {
      "text/plain": [
       "Index(['Asian / Asian American', 'Hispanic', 'White, non-Hispanic',\n",
       "       'International student', 'Unknown', 'Two or more ethnicities, with URM',\n",
       "       'Black, non-Hispanic', 'Unknown / declined to state',\n",
       "       'Pacific Islander'],\n",
       "      dtype='object')"
      ]
     },
     "execution_count": 44,
     "metadata": {},
     "output_type": "execute_result"
    }
   ],
   "source": [
    "data.groupby(['mellon_id']).ethnicity.max().value_counts().index"
   ]
  },
  {
   "cell_type": "markdown",
   "id": "convertible-technique",
   "metadata": {},
   "source": [
    "# Race"
   ]
  },
  {
   "cell_type": "code",
   "execution_count": 32,
   "id": "removed-junior",
   "metadata": {},
   "outputs": [
    {
     "data": {
      "text/plain": [
       "Asian / Asian American               221\n",
       "Hispanic                             166\n",
       "White, non-Hispanic                   65\n",
       "International student                 33\n",
       "Unknown                               12\n",
       "Two or more ethnicities, with URM     10\n",
       "Black, non-Hispanic                    9\n",
       "Unknown / declined to state            5\n",
       "Pacific Islander                       1\n",
       "Name: ethnicity, dtype: int64"
      ]
     },
     "execution_count": 32,
     "metadata": {},
     "output_type": "execute_result"
    }
   ],
   "source": [
    "data.groupby(['mellon_id']).ethnicity.max().value_counts()"
   ]
  },
  {
   "cell_type": "code",
   "execution_count": 58,
   "id": "processed-religion",
   "metadata": {},
   "outputs": [
    {
     "name": "stderr",
     "output_type": "stream",
     "text": [
      "/Library/Frameworks/Python.framework/Versions/3.9/lib/python3.9/site-packages/seaborn/_decorators.py:36: FutureWarning: Pass the following variables as keyword args: x, y. From version 0.12, the only valid positional argument will be `data`, and passing other arguments without an explicit keyword will result in an error or misinterpretation.\n",
      "  warnings.warn(\n"
     ]
    },
    {
     "data": {
      "image/png": "[encoded data removed]",
      "text/plain": [
       "<Figure size 1440x720 with 1 Axes>"
      ]
     },
     "metadata": {
      "needs_background": "light"
     },
     "output_type": "display_data"
    }
   ],
   "source": [
    "fig = plt.figure(figsize=(20,10))\n",
    "ax = fig.add_axes([0,0,1,1])\n",
    "k = data.groupby(['mellon_id']).ethnicity.max().value_counts().index\n",
    "val = data.groupby(['mellon_id']).ethnicity.max().value_counts()\n",
    "sns.barplot(k, val)\n",
    "plt.show()"
   ]
  },
  {
   "cell_type": "markdown",
   "id": "missing-firmware",
   "metadata": {},
   "source": [
    "# Gender"
   ]
  },
  {
   "cell_type": "code",
   "execution_count": 47,
   "id": "awful-evaluation",
   "metadata": {},
   "outputs": [
    {
     "data": {
      "text/plain": [
       "F    360\n",
       "M    162\n",
       "Name: gender, dtype: int64"
      ]
     },
     "execution_count": 47,
     "metadata": {},
     "output_type": "execute_result"
    }
   ],
   "source": [
    "data.groupby(['mellon_id']).gender.max().value_counts()"
   ]
  },
  {
   "cell_type": "code",
   "execution_count": 48,
   "id": "gross-night",
   "metadata": {},
   "outputs": [
    {
     "name": "stderr",
     "output_type": "stream",
     "text": [
      "/Library/Frameworks/Python.framework/Versions/3.9/lib/python3.9/site-packages/seaborn/_decorators.py:36: FutureWarning: Pass the following variables as keyword args: x, y. From version 0.12, the only valid positional argument will be `data`, and passing other arguments without an explicit keyword will result in an error or misinterpretation.\n",
      "  warnings.warn(\n"
     ]
    },
    {
     "data": {
      "image/png": "[encoded data removed]",
      "text/plain": [
       "<Figure size 504x720 with 1 Axes>"
      ]
     },
     "metadata": {
      "needs_background": "light"
     },
     "output_type": "display_data"
    }
   ],
   "source": [
    "fig = plt.figure(figsize=(7,10))\n",
    "ax = fig.add_axes([0,0,1,1])\n",
    "k = data.groupby(['mellon_id']).gender.max().value_counts().index\n",
    "val = data.groupby(['mellon_id']).gender.max().value_counts()\n",
    "sns.barplot(k, val)\n",
    "plt.show()"
   ]
  },
  {
   "cell_type": "markdown",
   "id": "wound-biodiversity",
   "metadata": {},
   "source": [
    "# Year"
   ]
  },
  {
   "cell_type": "code",
   "execution_count": 49,
   "id": "composed-arthur",
   "metadata": {},
   "outputs": [
    {
     "data": {
      "text/plain": [
       "Freshman     351\n",
       "Junior       137\n",
       "Sophomore     25\n",
       "Senior         9\n",
       "Name: application_status, dtype: int64"
      ]
     },
     "execution_count": 49,
     "metadata": {},
     "output_type": "execute_result"
    }
   ],
   "source": [
    "data.groupby(['mellon_id']).application_status.max().value_counts()"
   ]
  },
  {
   "cell_type": "code",
   "execution_count": 50,
   "id": "upset-rates",
   "metadata": {},
   "outputs": [
    {
     "name": "stderr",
     "output_type": "stream",
     "text": [
      "/Library/Frameworks/Python.framework/Versions/3.9/lib/python3.9/site-packages/seaborn/_decorators.py:36: FutureWarning: Pass the following variables as keyword args: x, y. From version 0.12, the only valid positional argument will be `data`, and passing other arguments without an explicit keyword will result in an error or misinterpretation.\n",
      "  warnings.warn(\n"
     ]
    },
    {
     "data": {
      "image/png": "[encoded data removed]",
      "text/plain": [
       "<Figure size 504x360 with 1 Axes>"
      ]
     },
     "metadata": {
      "needs_background": "light"
     },
     "output_type": "display_data"
    }
   ],
   "source": [
    "fig = plt.figure(figsize=(7,5))\n",
    "ax = fig.add_axes([0,0,1,1])\n",
    "k = data.groupby(['mellon_id']).application_status.max().value_counts().index\n",
    "val = data.groupby(['mellon_id']).application_status.max().value_counts()\n",
    "sns.barplot(k, val)\n",
    "plt.show()"
   ]
  },
  {
   "cell_type": "markdown",
   "id": "official-longer",
   "metadata": {},
   "source": [
    "# First generation"
   ]
  },
  {
   "cell_type": "code",
   "execution_count": 51,
   "id": "exempt-respect",
   "metadata": {},
   "outputs": [
    {
     "data": {
      "text/plain": [
       "1.0    289\n",
       "0.0    233\n",
       "Name: first_generation, dtype: int64"
      ]
     },
     "execution_count": 51,
     "metadata": {},
     "output_type": "execute_result"
    }
   ],
   "source": [
    "data.groupby(['mellon_id']).first_generation.max().value_counts()"
   ]
  },
  {
   "cell_type": "code",
   "execution_count": 56,
   "id": "complicated-going",
   "metadata": {},
   "outputs": [
    {
     "name": "stderr",
     "output_type": "stream",
     "text": [
      "/Library/Frameworks/Python.framework/Versions/3.9/lib/python3.9/site-packages/seaborn/_decorators.py:36: FutureWarning: Pass the following variables as keyword args: x, y. From version 0.12, the only valid positional argument will be `data`, and passing other arguments without an explicit keyword will result in an error or misinterpretation.\n",
      "  warnings.warn(\n"
     ]
    },
    {
     "data": {
      "image/png": "[encoded data removed]",
      "text/plain": [
       "<Figure size 504x360 with 1 Axes>"
      ]
     },
     "metadata": {
      "needs_background": "light"
     },
     "output_type": "display_data"
    }
   ],
   "source": [
    "fig = plt.figure(figsize=(7,5))\n",
    "ax = fig.add_axes([0,0,1,1])\n",
    "k = ['first generation', 'non-first generation']\n",
    "val = data.groupby(['mellon_id']).first_generation.max().value_counts()\n",
    "sns.barplot(k, val)\n",
    "plt.show()"
   ]
  },
  {
   "cell_type": "code",
   "execution_count": 43,
   "id": "proud-cheese",
   "metadata": {},
   "outputs": [],
   "source": []
  },
  {
   "cell_type": "code",
   "execution_count": 44,
   "id": "drawn-declaration",
   "metadata": {},
   "outputs": [
    {
     "name": "stderr",
     "output_type": "stream",
     "text": [
      "/Library/Frameworks/Python.framework/Versions/3.9/lib/python3.9/site-packages/seaborn/_decorators.py:36: FutureWarning: Pass the following variables as keyword args: x, y. From version 0.12, the only valid positional argument will be `data`, and passing other arguments without an explicit keyword will result in an error or misinterpretation.\n",
      "  warnings.warn(\n"
     ]
    },
    {
     "data": {
      "text/plain": [
       "<AxesSubplot:ylabel='first_generation'>"
      ]
     },
     "execution_count": 44,
     "metadata": {},
     "output_type": "execute_result"
    },
    {
     "data": {
      "image/png": "[encoded data removed]",
      "text/plain": [
       "<Figure size 432x288 with 1 Axes>"
      ]
     },
     "metadata": {
      "needs_background": "light"
     },
     "output_type": "display_data"
    }
   ],
   "source": [
    "sns.barplot(k, val)"
   ]
  },
  {
   "cell_type": "markdown",
   "id": "civic-offset",
   "metadata": {},
   "source": [
    "# Scores"
   ]
  },
  {
   "cell_type": "code",
   "execution_count": 25,
   "id": "unauthorized-asbestos",
   "metadata": {},
   "outputs": [
    {
     "data": {
      "text/plain": [
       "0.000    366\n",
       "1.000     57\n",
       "2.000     52\n",
       "0.500     16\n",
       "1.500     12\n",
       "1.750     12\n",
       "0.125      7\n",
       "1.250      4\n",
       "0.250      4\n",
       "0.750      4\n",
       "Name: revise_score, dtype: int64"
      ]
     },
     "execution_count": 25,
     "metadata": {},
     "output_type": "execute_result"
    }
   ],
   "source": [
    "data.groupby(['mellon_id']).revise_score.mean().value_counts()"
   ]
  },
  {
   "cell_type": "code",
   "execution_count": 59,
   "id": "honey-strategy",
   "metadata": {},
   "outputs": [
    {
     "name": "stderr",
     "output_type": "stream",
     "text": [
      "/Library/Frameworks/Python.framework/Versions/3.9/lib/python3.9/site-packages/seaborn/_decorators.py:36: FutureWarning: Pass the following variables as keyword args: x, y. From version 0.12, the only valid positional argument will be `data`, and passing other arguments without an explicit keyword will result in an error or misinterpretation.\n",
      "  warnings.warn(\n"
     ]
    },
    {
     "data": {
      "image/png": "[encoded data removed]",
      "text/plain": [
       "<Figure size 360x504 with 1 Axes>"
      ]
     },
     "metadata": {
      "needs_background": "light"
     },
     "output_type": "display_data"
    }
   ],
   "source": [
    "fig = plt.figure(figsize=(5,7))\n",
    "ax = fig.add_axes([0,0,1,1])\n",
    "k = list(data.groupby(['mellon_id']).revise_score.max().value_counts().index)\n",
    "val = list(data.groupby(['mellon_id']).revise_score.max().value_counts())\n",
    "sns.barplot(k, val)\n",
    "plt.show()"
   ]
  },
  {
   "cell_type": "code",
   "execution_count": null,
   "id": "conservative-patio",
   "metadata": {},
   "outputs": [],
   "source": []
  }
 ],
 "metadata": {
  "kernelspec": {
   "display_name": "Python 3",
   "language": "python",
   "name": "python3"
  },
  "language_info": {
   "codemirror_mode": {
    "name": "ipython",
    "version": 3
   },
   "file_extension": ".py",
   "mimetype": "text/x-python",
   "name": "python",
   "nbconvert_exporter": "python",
   "pygments_lexer": "ipython3",
   "version": "3.9.1"
  }
 },
 "nbformat": 4,
 "nbformat_minor": 5
}
